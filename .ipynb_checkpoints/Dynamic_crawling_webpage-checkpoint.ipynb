{
 "cells": [
  {
   "cell_type": "markdown",
   "id": "f92432bd",
   "metadata": {},
   "source": [
    "# Install Selenium "
   ]
  },
  {
   "cell_type": "code",
   "execution_count": 1,
   "id": "7d44b824",
   "metadata": {},
   "outputs": [
    {
     "name": "stdout",
     "output_type": "stream",
     "text": [
      "Requirement already satisfied: selenium in c:\\users\\jordan\\anaconda3\\envs\\job\\lib\\site-packages (3.141.0)\n",
      "Requirement already satisfied: urllib3 in c:\\users\\jordan\\anaconda3\\envs\\job\\lib\\site-packages (from selenium) (1.26.5)\n",
      "Note: you may need to restart the kernel to use updated packages.\n"
     ]
    }
   ],
   "source": [
    "pip install selenium "
   ]
  },
  {
   "cell_type": "code",
   "execution_count": null,
   "id": "550354ac",
   "metadata": {},
   "outputs": [],
   "source": [
    "print('testing git version control')"
   ]
  },
  {
   "cell_type": "code",
   "execution_count": 2,
   "id": "786af864",
   "metadata": {},
   "outputs": [],
   "source": [
    "from pandas import pandas as pd"
   ]
  },
  {
   "cell_type": "code",
   "execution_count": 3,
   "id": "8b117719",
   "metadata": {},
   "outputs": [],
   "source": [
    "from selenium import webdriver # import webdriver"
   ]
  },
  {
   "cell_type": "code",
   "execution_count": 4,
   "id": "c1f010bc",
   "metadata": {},
   "outputs": [],
   "source": [
    "from selenium.webdriver.common.keys import Keys #KEys"
   ]
  },
  {
   "cell_type": "code",
   "execution_count": 5,
   "id": "handy-partnership",
   "metadata": {},
   "outputs": [],
   "source": [
    "import Dynamic_crawling_script as dc #import the .py script\n"
   ]
  },
  {
   "cell_type": "markdown",
   "id": "magnetic-namibia",
   "metadata": {},
   "source": [
    "### Path Configuration"
   ]
  },
  {
   "cell_type": "code",
   "execution_count": 6,
   "id": "15d0a154",
   "metadata": {
    "scrolled": true
   },
   "outputs": [],
   "source": [
    "from Config import  HOME_FOLDER, DRIVERNAME, DRIVERPATH, DRIVERTYPE"
   ]
  },
  {
   "cell_type": "code",
   "execution_count": 7,
   "id": "d2c7781a",
   "metadata": {},
   "outputs": [],
   "source": [
    "driver = dc.webdriver_creator('Chrome', DRIVERPATH)"
   ]
  },
  {
   "cell_type": "markdown",
   "id": "juvenile-poultry",
   "metadata": {},
   "source": [
    "### URL creation"
   ]
  },
  {
   "cell_type": "code",
   "execution_count": 8,
   "id": "95ef7b5a",
   "metadata": {},
   "outputs": [],
   "source": [
    "# Let's use the function create link using the default value\n",
    "link_de = dc.create_link_v2('data engineer') # execute the function and return an URL which contains the job title and the page \n",
    "# this link is a variable"
   ]
  },
  {
   "cell_type": "code",
   "execution_count": 9,
   "id": "8daab009",
   "metadata": {},
   "outputs": [
    {
     "data": {
      "text/plain": [
       "'https://www.welcometothejungle.com/fr/jobs?query=data%20engineer&page=1'"
      ]
     },
     "execution_count": 9,
     "metadata": {},
     "output_type": "execute_result"
    }
   ],
   "source": [
    "link_de"
   ]
  },
  {
   "cell_type": "code",
   "execution_count": 10,
   "id": "316c3c59",
   "metadata": {},
   "outputs": [
    {
     "data": {
      "text/plain": [
       "'https://www.welcometothejungle.com/fr/jobs?query=data%20engineer&page=2'"
      ]
     },
     "execution_count": 10,
     "metadata": {},
     "output_type": "execute_result"
    }
   ],
   "source": [
    "# Let's use the function create link with our own value\n",
    "link_de_2 = dc.create_link_v2('data engineer', 2) # execute the function and return an URL which contains the job title and the page \n",
    "link_de_2"
   ]
  },
  {
   "cell_type": "code",
   "execution_count": 11,
   "id": "38e3197c",
   "metadata": {},
   "outputs": [
    {
     "data": {
      "text/plain": [
       "'https://www.welcometothejungle.com/fr/jobs?query=data%20scientist&page=1'"
      ]
     },
     "execution_count": 11,
     "metadata": {},
     "output_type": "execute_result"
    }
   ],
   "source": [
    "link_ds = dc.create_link_v2('data scientist')\n",
    "link_ds"
   ]
  },
  {
   "cell_type": "markdown",
   "id": "ordinary-variety",
   "metadata": {},
   "source": [
    "### Opening the URL with Selenium"
   ]
  },
  {
   "cell_type": "code",
   "execution_count": 12,
   "id": "aa428da1",
   "metadata": {},
   "outputs": [],
   "source": [
    "driver.get(link_ds) # open the link with the driver "
   ]
  },
  {
   "cell_type": "code",
   "execution_count": 13,
   "id": "b35e79b2",
   "metadata": {},
   "outputs": [],
   "source": [
    "#Retrieve the html code of the page\n",
    "page_html = driver.page_source"
   ]
  },
  {
   "cell_type": "code",
   "execution_count": 14,
   "id": "938dd074",
   "metadata": {},
   "outputs": [],
   "source": [
    "#Print the html code (if you want)\n",
    "#print(page_html)"
   ]
  },
  {
   "cell_type": "code",
   "execution_count": 15,
   "id": "a1669afa",
   "metadata": {},
   "outputs": [],
   "source": [
    "#Find the button to click to accept the cookies\n",
    "button = driver.find_element_by_id(\"axeptio_btn_acceptAll\")\n",
    "#Click on the button\n",
    "button.click()"
   ]
  },
  {
   "cell_type": "code",
   "execution_count": 16,
   "id": "4f8d9f8c",
   "metadata": {},
   "outputs": [],
   "source": [
    "import time"
   ]
  },
  {
   "cell_type": "code",
   "execution_count": 17,
   "id": "2b469345",
   "metadata": {},
   "outputs": [],
   "source": [
    "#Scroll down throuht the entire Web page\n",
    "elem = driver.find_element_by_tag_name(\"body\")\n",
    "for i in range(151):\n",
    "    elem.send_keys(Keys.ARROW_DOWN)\n",
    "    time.sleep(0.1)"
   ]
  },
  {
   "cell_type": "code",
   "execution_count": 18,
   "id": "rental-software",
   "metadata": {},
   "outputs": [
    {
     "data": {
      "text/plain": [
       "[<selenium.webdriver.remote.webelement.WebElement (session=\"fb551784dce05bb7c852bfca55dbb18a\", element=\"215eedd7-af98-4732-abd5-2a93754a2692\")>,\n",
       " <selenium.webdriver.remote.webelement.WebElement (session=\"fb551784dce05bb7c852bfca55dbb18a\", element=\"be32d292-0109-4b1c-915e-63b76861ce6e\")>,\n",
       " <selenium.webdriver.remote.webelement.WebElement (session=\"fb551784dce05bb7c852bfca55dbb18a\", element=\"89d0d581-02a6-4369-8103-0818440d1994\")>,\n",
       " <selenium.webdriver.remote.webelement.WebElement (session=\"fb551784dce05bb7c852bfca55dbb18a\", element=\"7c872358-de95-411b-96f1-a7f65c69f50f\")>]"
      ]
     },
     "execution_count": 18,
     "metadata": {},
     "output_type": "execute_result"
    }
   ],
   "source": [
    "#Find logo elements in the webpage\n",
    "#every logo element seem to have the following class name here: sc-1kkiv1h-8 iwJoCg\n",
    "logos = driver.find_elements_by_css_selector('img.sc-1kkiv1h-8.iwJoCg')\n",
    "logos"
   ]
  },
  {
   "cell_type": "code",
   "execution_count": 19,
   "id": "f5071c34",
   "metadata": {
    "scrolled": true
   },
   "outputs": [
    {
     "data": {
      "text/plain": [
       "['https://cdn-images.welcometothejungle.com/uqXunUrJ32s5y5NB99ayO7KkRNMlc5BPigkJAW5zp3E/w:200/q:85/czM6Ly93dHRqLXBy/b2R1Y3Rpb24vdXBs/b2Fkcy9vcmdhbml6/YXRpb24vbG9nby84/MzU1LzE1ODk5OC80/YmEzMjkxMy04ODMw/LTQ2NzEtYjlmZi0z/OTM4NWQyMTExNjAu/cG5n',\n",
       " 'https://cdn-images.welcometothejungle.com/N8jwRetyvQv_zPtfFVb9gs2iFVZ0FU5DI71zeOzsnWE/w:200/q:85/czM6Ly93dHRqLXBy/b2R1Y3Rpb24vdXBs/b2Fkcy9vcmdhbml6/YXRpb24vbG9nby84/NTY0LzE0ODAwNy9h/ZGIyZTc0NC0yMzAx/LTQ3NzEtYTVkOC1j/ZDJjM2E0ZmY5NTYu/cG5n',\n",
       " 'https://cdn-images.welcometothejungle.com/N8jwRetyvQv_zPtfFVb9gs2iFVZ0FU5DI71zeOzsnWE/w:200/q:85/czM6Ly93dHRqLXBy/b2R1Y3Rpb24vdXBs/b2Fkcy9vcmdhbml6/YXRpb24vbG9nby84/NTY0LzE0ODAwNy9h/ZGIyZTc0NC0yMzAx/LTQ3NzEtYTVkOC1j/ZDJjM2E0ZmY5NTYu/cG5n',\n",
       " 'https://cdn-images.welcometothejungle.com/N8jwRetyvQv_zPtfFVb9gs2iFVZ0FU5DI71zeOzsnWE/w:200/q:85/czM6Ly93dHRqLXBy/b2R1Y3Rpb24vdXBs/b2Fkcy9vcmdhbml6/YXRpb24vbG9nby84/NTY0LzE0ODAwNy9h/ZGIyZTc0NC0yMzAx/LTQ3NzEtYTVkOC1j/ZDJjM2E0ZmY5NTYu/cG5n']"
      ]
     },
     "execution_count": 19,
     "metadata": {},
     "output_type": "execute_result"
    }
   ],
   "source": [
    "# create a list with SRC (HTML path) of each element of the previous list\n",
    "# we use  list comprehension method here \n",
    "myList = [el.get_attribute(\"src\") for el in logos]\n",
    "myList"
   ]
  },
  {
   "cell_type": "code",
   "execution_count": 20,
   "id": "3a33cfee",
   "metadata": {},
   "outputs": [
    {
     "data": {
      "text/html": [
       "<div>\n",
       "<style scoped>\n",
       "    .dataframe tbody tr th:only-of-type {\n",
       "        vertical-align: middle;\n",
       "    }\n",
       "\n",
       "    .dataframe tbody tr th {\n",
       "        vertical-align: top;\n",
       "    }\n",
       "\n",
       "    .dataframe thead th {\n",
       "        text-align: right;\n",
       "    }\n",
       "</style>\n",
       "<table border=\"1\" class=\"dataframe\">\n",
       "  <thead>\n",
       "    <tr style=\"text-align: right;\">\n",
       "      <th></th>\n",
       "      <th>logo</th>\n",
       "    </tr>\n",
       "  </thead>\n",
       "  <tbody>\n",
       "    <tr>\n",
       "      <th>0</th>\n",
       "      <td>https://cdn-images.welcometothejungle.com/uqXu...</td>\n",
       "    </tr>\n",
       "    <tr>\n",
       "      <th>1</th>\n",
       "      <td>https://cdn-images.welcometothejungle.com/N8jw...</td>\n",
       "    </tr>\n",
       "    <tr>\n",
       "      <th>2</th>\n",
       "      <td>https://cdn-images.welcometothejungle.com/N8jw...</td>\n",
       "    </tr>\n",
       "    <tr>\n",
       "      <th>3</th>\n",
       "      <td>https://cdn-images.welcometothejungle.com/N8jw...</td>\n",
       "    </tr>\n",
       "  </tbody>\n",
       "</table>\n",
       "</div>"
      ],
      "text/plain": [
       "                                                logo\n",
       "0  https://cdn-images.welcometothejungle.com/uqXu...\n",
       "1  https://cdn-images.welcometothejungle.com/N8jw...\n",
       "2  https://cdn-images.welcometothejungle.com/N8jw...\n",
       "3  https://cdn-images.welcometothejungle.com/N8jw..."
      ]
     },
     "execution_count": 20,
     "metadata": {},
     "output_type": "execute_result"
    }
   ],
   "source": [
    "logoDF = pd.DataFrame({'logo': myList})\n",
    "logoDF"
   ]
  },
  {
   "cell_type": "code",
   "execution_count": 21,
   "id": "6ae0fe35",
   "metadata": {},
   "outputs": [],
   "source": [
    "logoDF.to_csv (r'C:\\Users\\JORDAN\\Documents\\DSTI\\web-scrapping-job\\logoDF.csv', index = False, header=True)"
   ]
  },
  {
   "cell_type": "code",
   "execution_count": 22,
   "id": "1f560fbf",
   "metadata": {},
   "outputs": [
    {
     "data": {
      "text/plain": [
       "[<selenium.webdriver.remote.webelement.WebElement (session=\"fb551784dce05bb7c852bfca55dbb18a\", element=\"1b75422c-3660-4dac-8671-586b2b2701d9\")>,\n",
       " <selenium.webdriver.remote.webelement.WebElement (session=\"fb551784dce05bb7c852bfca55dbb18a\", element=\"1692b041-16d6-488f-ac04-42e28652e891\")>,\n",
       " <selenium.webdriver.remote.webelement.WebElement (session=\"fb551784dce05bb7c852bfca55dbb18a\", element=\"0105227e-3949-4fdc-85db-305d9487b973\")>,\n",
       " <selenium.webdriver.remote.webelement.WebElement (session=\"fb551784dce05bb7c852bfca55dbb18a\", element=\"a1188be1-6d06-43d9-9bbd-0f4b105002da\")>,\n",
       " <selenium.webdriver.remote.webelement.WebElement (session=\"fb551784dce05bb7c852bfca55dbb18a\", element=\"30db7758-5761-4888-83ca-3a2048267b24\")>,\n",
       " <selenium.webdriver.remote.webelement.WebElement (session=\"fb551784dce05bb7c852bfca55dbb18a\", element=\"d6cec387-6cdb-413d-bdf4-030491fa364f\")>,\n",
       " <selenium.webdriver.remote.webelement.WebElement (session=\"fb551784dce05bb7c852bfca55dbb18a\", element=\"ebbfc80d-a140-42ff-adc4-4b7817cfd2cc\")>,\n",
       " <selenium.webdriver.remote.webelement.WebElement (session=\"fb551784dce05bb7c852bfca55dbb18a\", element=\"8b85b456-9498-4f7d-8b6f-292a857b38fa\")>,\n",
       " <selenium.webdriver.remote.webelement.WebElement (session=\"fb551784dce05bb7c852bfca55dbb18a\", element=\"5db44eeb-29da-4959-b34a-e3385dfe7046\")>,\n",
       " <selenium.webdriver.remote.webelement.WebElement (session=\"fb551784dce05bb7c852bfca55dbb18a\", element=\"d1755062-d185-4e0a-8b80-c8a141dc2c39\")>,\n",
       " <selenium.webdriver.remote.webelement.WebElement (session=\"fb551784dce05bb7c852bfca55dbb18a\", element=\"bf61d1f9-9d0a-4790-9dbb-071e786fbadd\")>,\n",
       " <selenium.webdriver.remote.webelement.WebElement (session=\"fb551784dce05bb7c852bfca55dbb18a\", element=\"4b58dbee-0b9a-499f-b704-c9beca16e60b\")>,\n",
       " <selenium.webdriver.remote.webelement.WebElement (session=\"fb551784dce05bb7c852bfca55dbb18a\", element=\"e4701e8a-89ae-494d-bc5d-36e128f8f665\")>,\n",
       " <selenium.webdriver.remote.webelement.WebElement (session=\"fb551784dce05bb7c852bfca55dbb18a\", element=\"aa4f2c41-088e-452d-b7af-7a4c0b5b73d6\")>,\n",
       " <selenium.webdriver.remote.webelement.WebElement (session=\"fb551784dce05bb7c852bfca55dbb18a\", element=\"84d69b0f-7b33-4b4c-96c9-fa6c4cfb7af2\")>,\n",
       " <selenium.webdriver.remote.webelement.WebElement (session=\"fb551784dce05bb7c852bfca55dbb18a\", element=\"e21892a9-a6c6-44c3-aa2f-965c945986ba\")>,\n",
       " <selenium.webdriver.remote.webelement.WebElement (session=\"fb551784dce05bb7c852bfca55dbb18a\", element=\"1afd2a90-2540-4c28-a387-210d950c6847\")>,\n",
       " <selenium.webdriver.remote.webelement.WebElement (session=\"fb551784dce05bb7c852bfca55dbb18a\", element=\"3467054c-45da-44c5-9b66-4b6f13eeed5b\")>,\n",
       " <selenium.webdriver.remote.webelement.WebElement (session=\"fb551784dce05bb7c852bfca55dbb18a\", element=\"403fb491-5295-4bab-a1ff-98dd66419bd9\")>,\n",
       " <selenium.webdriver.remote.webelement.WebElement (session=\"fb551784dce05bb7c852bfca55dbb18a\", element=\"4576fb64-43d5-41ae-be68-0b6d6283fe2a\")>,\n",
       " <selenium.webdriver.remote.webelement.WebElement (session=\"fb551784dce05bb7c852bfca55dbb18a\", element=\"af8c4e97-29b8-4d35-8f0f-c7b08bad0da4\")>,\n",
       " <selenium.webdriver.remote.webelement.WebElement (session=\"fb551784dce05bb7c852bfca55dbb18a\", element=\"8b08cb28-60aa-4c0b-be28-b21717d75d01\")>,\n",
       " <selenium.webdriver.remote.webelement.WebElement (session=\"fb551784dce05bb7c852bfca55dbb18a\", element=\"5d40a3ef-3e43-444f-bc74-f66c968ebc26\")>,\n",
       " <selenium.webdriver.remote.webelement.WebElement (session=\"fb551784dce05bb7c852bfca55dbb18a\", element=\"832dc2c9-3b64-4c72-89a1-ee5f2b74ceee\")>,\n",
       " <selenium.webdriver.remote.webelement.WebElement (session=\"fb551784dce05bb7c852bfca55dbb18a\", element=\"4cc72f43-4467-4513-a724-d0b95818169d\")>,\n",
       " <selenium.webdriver.remote.webelement.WebElement (session=\"fb551784dce05bb7c852bfca55dbb18a\", element=\"87c1bc55-14df-4a69-92c8-28e3012d10d0\")>,\n",
       " <selenium.webdriver.remote.webelement.WebElement (session=\"fb551784dce05bb7c852bfca55dbb18a\", element=\"cfeb4640-b570-4c9a-8c74-c3caf59264c7\")>,\n",
       " <selenium.webdriver.remote.webelement.WebElement (session=\"fb551784dce05bb7c852bfca55dbb18a\", element=\"d04e1458-920b-4f18-a133-78617c38a8f4\")>,\n",
       " <selenium.webdriver.remote.webelement.WebElement (session=\"fb551784dce05bb7c852bfca55dbb18a\", element=\"41f859f6-b7c9-43bb-9577-6454eb4a696f\")>,\n",
       " <selenium.webdriver.remote.webelement.WebElement (session=\"fb551784dce05bb7c852bfca55dbb18a\", element=\"926d2412-59aa-4e51-bb87-6a3cf464910b\")>]"
      ]
     },
     "execution_count": 22,
     "metadata": {},
     "output_type": "execute_result"
    }
   ],
   "source": [
    "# company name\n",
    "# compan_name  is a class=\"ais-Highlight-nonHighlighted\"\n",
    "companyName=driver.find_elements_by_css_selector('.ais-Highlight-nonHighlighted')\n",
    "companyName"
   ]
  },
  {
   "cell_type": "code",
   "execution_count": 23,
   "id": "8b00191c",
   "metadata": {},
   "outputs": [
    {
     "data": {
      "text/plain": [
       "['Margo',\n",
       " 'Botify',\n",
       " 'Datascientest',\n",
       " 'Virtuo',\n",
       " 'namR',\n",
       " 'namR',\n",
       " 'DialOnce',\n",
       " 'Deepki',\n",
       " 'Pretto',\n",
       " 'FLEXPER',\n",
       " 'FLEXPER',\n",
       " 'Vizzit',\n",
       " 'QuantCube Technology',\n",
       " 'Vianova',\n",
       " 'Shift Technology',\n",
       " 'Shift Technology',\n",
       " 'Shift Technology',\n",
       " 'Shift Technology',\n",
       " 'Shift Technology',\n",
       " 'Shift Technology',\n",
       " 'LittleBigCode',\n",
       " 'Dataleon',\n",
       " 'relevanC',\n",
       " 'Sanofi',\n",
       " 'Oney',\n",
       " 'Hyperlex',\n",
       " 'Lepermislibre',\n",
       " 'Thales',\n",
       " 'Dataiku',\n",
       " 'Mindee']"
      ]
     },
     "execution_count": 23,
     "metadata": {},
     "output_type": "execute_result"
    }
   ],
   "source": [
    "# create a list with SRC (HTML path) of each element of the previous list\n",
    "# we use  list comprehension method here \n",
    "myListCompany = [el.text for el in companyName]\n",
    "myListCompany"
   ]
  },
  {
   "cell_type": "code",
   "execution_count": 24,
   "id": "74b84a67",
   "metadata": {},
   "outputs": [
    {
     "data": {
      "text/html": [
       "<div>\n",
       "<style scoped>\n",
       "    .dataframe tbody tr th:only-of-type {\n",
       "        vertical-align: middle;\n",
       "    }\n",
       "\n",
       "    .dataframe tbody tr th {\n",
       "        vertical-align: top;\n",
       "    }\n",
       "\n",
       "    .dataframe thead th {\n",
       "        text-align: right;\n",
       "    }\n",
       "</style>\n",
       "<table border=\"1\" class=\"dataframe\">\n",
       "  <thead>\n",
       "    <tr style=\"text-align: right;\">\n",
       "      <th></th>\n",
       "      <th>company name</th>\n",
       "    </tr>\n",
       "  </thead>\n",
       "  <tbody>\n",
       "    <tr>\n",
       "      <th>0</th>\n",
       "      <td>Margo</td>\n",
       "    </tr>\n",
       "    <tr>\n",
       "      <th>1</th>\n",
       "      <td>Botify</td>\n",
       "    </tr>\n",
       "    <tr>\n",
       "      <th>2</th>\n",
       "      <td>Datascientest</td>\n",
       "    </tr>\n",
       "    <tr>\n",
       "      <th>3</th>\n",
       "      <td>Virtuo</td>\n",
       "    </tr>\n",
       "    <tr>\n",
       "      <th>4</th>\n",
       "      <td>namR</td>\n",
       "    </tr>\n",
       "    <tr>\n",
       "      <th>5</th>\n",
       "      <td>namR</td>\n",
       "    </tr>\n",
       "    <tr>\n",
       "      <th>6</th>\n",
       "      <td>DialOnce</td>\n",
       "    </tr>\n",
       "    <tr>\n",
       "      <th>7</th>\n",
       "      <td>Deepki</td>\n",
       "    </tr>\n",
       "    <tr>\n",
       "      <th>8</th>\n",
       "      <td>Pretto</td>\n",
       "    </tr>\n",
       "    <tr>\n",
       "      <th>9</th>\n",
       "      <td>FLEXPER</td>\n",
       "    </tr>\n",
       "    <tr>\n",
       "      <th>10</th>\n",
       "      <td>FLEXPER</td>\n",
       "    </tr>\n",
       "    <tr>\n",
       "      <th>11</th>\n",
       "      <td>Vizzit</td>\n",
       "    </tr>\n",
       "    <tr>\n",
       "      <th>12</th>\n",
       "      <td>QuantCube Technology</td>\n",
       "    </tr>\n",
       "    <tr>\n",
       "      <th>13</th>\n",
       "      <td>Vianova</td>\n",
       "    </tr>\n",
       "    <tr>\n",
       "      <th>14</th>\n",
       "      <td>Shift Technology</td>\n",
       "    </tr>\n",
       "    <tr>\n",
       "      <th>15</th>\n",
       "      <td>Shift Technology</td>\n",
       "    </tr>\n",
       "    <tr>\n",
       "      <th>16</th>\n",
       "      <td>Shift Technology</td>\n",
       "    </tr>\n",
       "    <tr>\n",
       "      <th>17</th>\n",
       "      <td>Shift Technology</td>\n",
       "    </tr>\n",
       "    <tr>\n",
       "      <th>18</th>\n",
       "      <td>Shift Technology</td>\n",
       "    </tr>\n",
       "    <tr>\n",
       "      <th>19</th>\n",
       "      <td>Shift Technology</td>\n",
       "    </tr>\n",
       "    <tr>\n",
       "      <th>20</th>\n",
       "      <td>LittleBigCode</td>\n",
       "    </tr>\n",
       "    <tr>\n",
       "      <th>21</th>\n",
       "      <td>Dataleon</td>\n",
       "    </tr>\n",
       "    <tr>\n",
       "      <th>22</th>\n",
       "      <td>relevanC</td>\n",
       "    </tr>\n",
       "    <tr>\n",
       "      <th>23</th>\n",
       "      <td>Sanofi</td>\n",
       "    </tr>\n",
       "    <tr>\n",
       "      <th>24</th>\n",
       "      <td>Oney</td>\n",
       "    </tr>\n",
       "    <tr>\n",
       "      <th>25</th>\n",
       "      <td>Hyperlex</td>\n",
       "    </tr>\n",
       "    <tr>\n",
       "      <th>26</th>\n",
       "      <td>Lepermislibre</td>\n",
       "    </tr>\n",
       "    <tr>\n",
       "      <th>27</th>\n",
       "      <td>Thales</td>\n",
       "    </tr>\n",
       "    <tr>\n",
       "      <th>28</th>\n",
       "      <td>Dataiku</td>\n",
       "    </tr>\n",
       "    <tr>\n",
       "      <th>29</th>\n",
       "      <td>Mindee</td>\n",
       "    </tr>\n",
       "  </tbody>\n",
       "</table>\n",
       "</div>"
      ],
      "text/plain": [
       "            company name\n",
       "0                  Margo\n",
       "1                 Botify\n",
       "2          Datascientest\n",
       "3                 Virtuo\n",
       "4                   namR\n",
       "5                   namR\n",
       "6               DialOnce\n",
       "7                 Deepki\n",
       "8                 Pretto\n",
       "9                FLEXPER\n",
       "10               FLEXPER\n",
       "11                Vizzit\n",
       "12  QuantCube Technology\n",
       "13               Vianova\n",
       "14      Shift Technology\n",
       "15      Shift Technology\n",
       "16      Shift Technology\n",
       "17      Shift Technology\n",
       "18      Shift Technology\n",
       "19      Shift Technology\n",
       "20         LittleBigCode\n",
       "21              Dataleon\n",
       "22              relevanC\n",
       "23                Sanofi\n",
       "24                  Oney\n",
       "25              Hyperlex\n",
       "26         Lepermislibre\n",
       "27                Thales\n",
       "28               Dataiku\n",
       "29                Mindee"
      ]
     },
     "execution_count": 24,
     "metadata": {},
     "output_type": "execute_result"
    }
   ],
   "source": [
    "companyNameDF = pd.DataFrame({'company name': myListCompany})\n",
    "companyNameDF"
   ]
  },
  {
   "cell_type": "code",
   "execution_count": 25,
   "id": "9d15d56e",
   "metadata": {},
   "outputs": [],
   "source": [
    "companyNameDF.to_csv (r'C:\\Users\\JORDAN\\Documents\\DSTI\\web-scrapping-job\\companyNameDF.csv', index = False, header=True)"
   ]
  },
  {
   "cell_type": "code",
   "execution_count": 26,
   "id": "27e518e7",
   "metadata": {},
   "outputs": [
    {
     "data": {
      "text/plain": [
       "[<selenium.webdriver.remote.webelement.WebElement (session=\"fb551784dce05bb7c852bfca55dbb18a\", element=\"0d38eb62-1201-458b-8d0b-b9831eb57980\")>,\n",
       " <selenium.webdriver.remote.webelement.WebElement (session=\"fb551784dce05bb7c852bfca55dbb18a\", element=\"9444629e-629f-4c80-98b0-8a9c16e8e81d\")>,\n",
       " <selenium.webdriver.remote.webelement.WebElement (session=\"fb551784dce05bb7c852bfca55dbb18a\", element=\"899de42c-ffcf-4d68-b052-48579c56c3de\")>,\n",
       " <selenium.webdriver.remote.webelement.WebElement (session=\"fb551784dce05bb7c852bfca55dbb18a\", element=\"e6367378-2c31-4e99-af2c-0e8e61f09b6a\")>,\n",
       " <selenium.webdriver.remote.webelement.WebElement (session=\"fb551784dce05bb7c852bfca55dbb18a\", element=\"651f2a47-f530-45fc-a616-75e662572924\")>,\n",
       " <selenium.webdriver.remote.webelement.WebElement (session=\"fb551784dce05bb7c852bfca55dbb18a\", element=\"b5c2121d-1310-4efe-82e7-1f71f7a36e61\")>,\n",
       " <selenium.webdriver.remote.webelement.WebElement (session=\"fb551784dce05bb7c852bfca55dbb18a\", element=\"e003ce38-1a68-45e8-bc06-fd994877f405\")>,\n",
       " <selenium.webdriver.remote.webelement.WebElement (session=\"fb551784dce05bb7c852bfca55dbb18a\", element=\"f825a2e0-2376-417e-8bc2-2eecb05c6b6a\")>,\n",
       " <selenium.webdriver.remote.webelement.WebElement (session=\"fb551784dce05bb7c852bfca55dbb18a\", element=\"8f5b59db-c0bf-4e9b-8853-c672fe0ffdc6\")>,\n",
       " <selenium.webdriver.remote.webelement.WebElement (session=\"fb551784dce05bb7c852bfca55dbb18a\", element=\"0f958d9e-c9a1-4765-89b2-a5c29e741fa2\")>,\n",
       " <selenium.webdriver.remote.webelement.WebElement (session=\"fb551784dce05bb7c852bfca55dbb18a\", element=\"baf0a9a9-03d5-43d1-b4c6-34861b4b0ef1\")>,\n",
       " <selenium.webdriver.remote.webelement.WebElement (session=\"fb551784dce05bb7c852bfca55dbb18a\", element=\"67eb341f-9612-4b6e-ac4a-887a5bb6fd34\")>,\n",
       " <selenium.webdriver.remote.webelement.WebElement (session=\"fb551784dce05bb7c852bfca55dbb18a\", element=\"8fa15286-aba3-4572-8d03-f5a91ee4e5ac\")>,\n",
       " <selenium.webdriver.remote.webelement.WebElement (session=\"fb551784dce05bb7c852bfca55dbb18a\", element=\"379d7a5f-d40e-4084-8e35-30c2686560c5\")>,\n",
       " <selenium.webdriver.remote.webelement.WebElement (session=\"fb551784dce05bb7c852bfca55dbb18a\", element=\"f29dfbde-97ff-47e1-af8f-11b7047886d9\")>,\n",
       " <selenium.webdriver.remote.webelement.WebElement (session=\"fb551784dce05bb7c852bfca55dbb18a\", element=\"efdd21b2-dc4d-45cb-ab9d-817f19e08548\")>,\n",
       " <selenium.webdriver.remote.webelement.WebElement (session=\"fb551784dce05bb7c852bfca55dbb18a\", element=\"989a6a9a-eb1c-477a-bac1-208823827bdc\")>,\n",
       " <selenium.webdriver.remote.webelement.WebElement (session=\"fb551784dce05bb7c852bfca55dbb18a\", element=\"f946a2ce-2f68-4068-97ef-498b116d8be9\")>,\n",
       " <selenium.webdriver.remote.webelement.WebElement (session=\"fb551784dce05bb7c852bfca55dbb18a\", element=\"55e59bdf-d97c-465d-8815-7918af534f4d\")>,\n",
       " <selenium.webdriver.remote.webelement.WebElement (session=\"fb551784dce05bb7c852bfca55dbb18a\", element=\"5b3f8fe6-1f3a-4def-b6e2-17c382890f07\")>,\n",
       " <selenium.webdriver.remote.webelement.WebElement (session=\"fb551784dce05bb7c852bfca55dbb18a\", element=\"68a02133-501c-41b8-a930-709ce0f8c768\")>,\n",
       " <selenium.webdriver.remote.webelement.WebElement (session=\"fb551784dce05bb7c852bfca55dbb18a\", element=\"be330ad4-d24b-4f1d-a74d-68677eb575e9\")>,\n",
       " <selenium.webdriver.remote.webelement.WebElement (session=\"fb551784dce05bb7c852bfca55dbb18a\", element=\"40dcd56f-875e-44f3-9260-b7ee83475e06\")>,\n",
       " <selenium.webdriver.remote.webelement.WebElement (session=\"fb551784dce05bb7c852bfca55dbb18a\", element=\"c5b54c67-8a37-476f-a2c1-395bfc80e61b\")>,\n",
       " <selenium.webdriver.remote.webelement.WebElement (session=\"fb551784dce05bb7c852bfca55dbb18a\", element=\"fa07e367-e588-433a-b062-f741a65edea1\")>,\n",
       " <selenium.webdriver.remote.webelement.WebElement (session=\"fb551784dce05bb7c852bfca55dbb18a\", element=\"0651351d-155d-454b-af71-2e2c4e60a980\")>,\n",
       " <selenium.webdriver.remote.webelement.WebElement (session=\"fb551784dce05bb7c852bfca55dbb18a\", element=\"ff69f16b-f1c9-40a8-a936-223f41ef6df6\")>,\n",
       " <selenium.webdriver.remote.webelement.WebElement (session=\"fb551784dce05bb7c852bfca55dbb18a\", element=\"3c5618d0-9600-4611-aeaa-d1640f247773\")>,\n",
       " <selenium.webdriver.remote.webelement.WebElement (session=\"fb551784dce05bb7c852bfca55dbb18a\", element=\"bd4c7874-f809-4581-83f9-f2cbd478505b\")>,\n",
       " <selenium.webdriver.remote.webelement.WebElement (session=\"fb551784dce05bb7c852bfca55dbb18a\", element=\"3efc369c-f89f-4d86-88a2-3b0c5d132bc3\")>]"
      ]
     },
     "execution_count": 26,
     "metadata": {},
     "output_type": "execute_result"
    }
   ],
   "source": [
    "# jobName \n",
    "# jobName  is a class=\"ais-Highlight-nonHighlighted\"\n",
    "jobName=driver.find_elements_by_css_selector('.sc-1kkiv1h-9.sc-7dlxn3-4.ivyJep.iXGQr')\n",
    "jobName"
   ]
  },
  {
   "cell_type": "code",
   "execution_count": 27,
   "id": "9c896096",
   "metadata": {},
   "outputs": [
    {
     "data": {
      "text/plain": [
       "['Data Scientist - H/F',\n",
       " 'Data Scientist',\n",
       " 'Data Scientist',\n",
       " 'Data Scientist',\n",
       " 'Data Scientist - Geo',\n",
       " 'Data Scientist - Alternance',\n",
       " 'Data Scientist Jeune Docteur (F/H)',\n",
       " 'Data-Scientist',\n",
       " 'Data Scientist',\n",
       " 'Data & Scientist - Montpellier',\n",
       " 'Data & Scientist - Sophia Antipolis',\n",
       " 'Data Scientist Unsupervised Learning',\n",
       " 'Data Scientist (computer vision) Toulouse',\n",
       " 'Data Scientist',\n",
       " 'Data Scientist Intern - Documents (End-of-studies or Césure Internship)',\n",
       " 'Data Scientist - End-of-studies (German speaking)',\n",
       " 'Data Scientist, Danish speaking - Northern Europe',\n",
       " 'Data Scientist - Spanish speaking',\n",
       " 'Data Scientist (End-of-studies Internship)',\n",
       " 'Data Scientist - France',\n",
       " 'Data Scientist Junior (H/F)',\n",
       " 'Data Scientist - F/H',\n",
       " 'Data Scientist R&D',\n",
       " 'Data Scientist Lead I M/F',\n",
       " 'Data Scientist',\n",
       " 'Data Scientist Intern',\n",
       " 'Data Scientist',\n",
       " 'Data Scientist confirmé(e) (H/F)',\n",
       " 'Data Scientist - Paris',\n",
       " 'Data-scientist']"
      ]
     },
     "execution_count": 27,
     "metadata": {},
     "output_type": "execute_result"
    }
   ],
   "source": [
    "# create a list with SRC (HTML path) of each element of the previous list\n",
    "# we use  list comprehension method here \n",
    "myListjobName = [el.text for el in jobName]\n",
    "myListjobName"
   ]
  },
  {
   "cell_type": "code",
   "execution_count": 28,
   "id": "7172f342",
   "metadata": {},
   "outputs": [
    {
     "data": {
      "text/html": [
       "<div>\n",
       "<style scoped>\n",
       "    .dataframe tbody tr th:only-of-type {\n",
       "        vertical-align: middle;\n",
       "    }\n",
       "\n",
       "    .dataframe tbody tr th {\n",
       "        vertical-align: top;\n",
       "    }\n",
       "\n",
       "    .dataframe thead th {\n",
       "        text-align: right;\n",
       "    }\n",
       "</style>\n",
       "<table border=\"1\" class=\"dataframe\">\n",
       "  <thead>\n",
       "    <tr style=\"text-align: right;\">\n",
       "      <th></th>\n",
       "      <th>Job name</th>\n",
       "    </tr>\n",
       "  </thead>\n",
       "  <tbody>\n",
       "    <tr>\n",
       "      <th>0</th>\n",
       "      <td>Data Scientist - H/F</td>\n",
       "    </tr>\n",
       "    <tr>\n",
       "      <th>1</th>\n",
       "      <td>Data Scientist</td>\n",
       "    </tr>\n",
       "    <tr>\n",
       "      <th>2</th>\n",
       "      <td>Data Scientist</td>\n",
       "    </tr>\n",
       "    <tr>\n",
       "      <th>3</th>\n",
       "      <td>Data Scientist</td>\n",
       "    </tr>\n",
       "    <tr>\n",
       "      <th>4</th>\n",
       "      <td>Data Scientist - Geo</td>\n",
       "    </tr>\n",
       "    <tr>\n",
       "      <th>5</th>\n",
       "      <td>Data Scientist - Alternance</td>\n",
       "    </tr>\n",
       "    <tr>\n",
       "      <th>6</th>\n",
       "      <td>Data Scientist Jeune Docteur (F/H)</td>\n",
       "    </tr>\n",
       "    <tr>\n",
       "      <th>7</th>\n",
       "      <td>Data-Scientist</td>\n",
       "    </tr>\n",
       "    <tr>\n",
       "      <th>8</th>\n",
       "      <td>Data Scientist</td>\n",
       "    </tr>\n",
       "    <tr>\n",
       "      <th>9</th>\n",
       "      <td>Data &amp; Scientist - Montpellier</td>\n",
       "    </tr>\n",
       "    <tr>\n",
       "      <th>10</th>\n",
       "      <td>Data &amp; Scientist - Sophia Antipolis</td>\n",
       "    </tr>\n",
       "    <tr>\n",
       "      <th>11</th>\n",
       "      <td>Data Scientist Unsupervised Learning</td>\n",
       "    </tr>\n",
       "    <tr>\n",
       "      <th>12</th>\n",
       "      <td>Data Scientist (computer vision) Toulouse</td>\n",
       "    </tr>\n",
       "    <tr>\n",
       "      <th>13</th>\n",
       "      <td>Data Scientist</td>\n",
       "    </tr>\n",
       "    <tr>\n",
       "      <th>14</th>\n",
       "      <td>Data Scientist Intern - Documents (End-of-stud...</td>\n",
       "    </tr>\n",
       "    <tr>\n",
       "      <th>15</th>\n",
       "      <td>Data Scientist - End-of-studies (German speaking)</td>\n",
       "    </tr>\n",
       "    <tr>\n",
       "      <th>16</th>\n",
       "      <td>Data Scientist, Danish speaking - Northern Europe</td>\n",
       "    </tr>\n",
       "    <tr>\n",
       "      <th>17</th>\n",
       "      <td>Data Scientist - Spanish speaking</td>\n",
       "    </tr>\n",
       "    <tr>\n",
       "      <th>18</th>\n",
       "      <td>Data Scientist (End-of-studies Internship)</td>\n",
       "    </tr>\n",
       "    <tr>\n",
       "      <th>19</th>\n",
       "      <td>Data Scientist - France</td>\n",
       "    </tr>\n",
       "    <tr>\n",
       "      <th>20</th>\n",
       "      <td>Data Scientist Junior (H/F)</td>\n",
       "    </tr>\n",
       "    <tr>\n",
       "      <th>21</th>\n",
       "      <td>Data Scientist - F/H</td>\n",
       "    </tr>\n",
       "    <tr>\n",
       "      <th>22</th>\n",
       "      <td>Data Scientist R&amp;D</td>\n",
       "    </tr>\n",
       "    <tr>\n",
       "      <th>23</th>\n",
       "      <td>Data Scientist Lead I M/F</td>\n",
       "    </tr>\n",
       "    <tr>\n",
       "      <th>24</th>\n",
       "      <td>Data Scientist</td>\n",
       "    </tr>\n",
       "    <tr>\n",
       "      <th>25</th>\n",
       "      <td>Data Scientist Intern</td>\n",
       "    </tr>\n",
       "    <tr>\n",
       "      <th>26</th>\n",
       "      <td>Data Scientist</td>\n",
       "    </tr>\n",
       "    <tr>\n",
       "      <th>27</th>\n",
       "      <td>Data Scientist confirmé(e) (H/F)</td>\n",
       "    </tr>\n",
       "    <tr>\n",
       "      <th>28</th>\n",
       "      <td>Data Scientist - Paris</td>\n",
       "    </tr>\n",
       "    <tr>\n",
       "      <th>29</th>\n",
       "      <td>Data-scientist</td>\n",
       "    </tr>\n",
       "  </tbody>\n",
       "</table>\n",
       "</div>"
      ],
      "text/plain": [
       "                                             Job name\n",
       "0                                Data Scientist - H/F\n",
       "1                                      Data Scientist\n",
       "2                                      Data Scientist\n",
       "3                                      Data Scientist\n",
       "4                                Data Scientist - Geo\n",
       "5                         Data Scientist - Alternance\n",
       "6                  Data Scientist Jeune Docteur (F/H)\n",
       "7                                      Data-Scientist\n",
       "8                                      Data Scientist\n",
       "9                      Data & Scientist - Montpellier\n",
       "10                Data & Scientist - Sophia Antipolis\n",
       "11               Data Scientist Unsupervised Learning\n",
       "12          Data Scientist (computer vision) Toulouse\n",
       "13                                     Data Scientist\n",
       "14  Data Scientist Intern - Documents (End-of-stud...\n",
       "15  Data Scientist - End-of-studies (German speaking)\n",
       "16  Data Scientist, Danish speaking - Northern Europe\n",
       "17                  Data Scientist - Spanish speaking\n",
       "18         Data Scientist (End-of-studies Internship)\n",
       "19                            Data Scientist - France\n",
       "20                        Data Scientist Junior (H/F)\n",
       "21                               Data Scientist - F/H\n",
       "22                                 Data Scientist R&D\n",
       "23                          Data Scientist Lead I M/F\n",
       "24                                     Data Scientist\n",
       "25                              Data Scientist Intern\n",
       "26                                     Data Scientist\n",
       "27                   Data Scientist confirmé(e) (H/F)\n",
       "28                             Data Scientist - Paris\n",
       "29                                     Data-scientist"
      ]
     },
     "execution_count": 28,
     "metadata": {},
     "output_type": "execute_result"
    }
   ],
   "source": [
    "ListjobNameDF = pd.DataFrame({'Job name': myListjobName})\n",
    "ListjobNameDF"
   ]
  },
  {
   "cell_type": "code",
   "execution_count": 29,
   "id": "d816f57a",
   "metadata": {},
   "outputs": [],
   "source": [
    "ListjobNameDF.to_csv (r'C:\\Users\\JORDAN\\Documents\\DSTI\\web-scrapping-job\\ListjobNameDF.csv', index = False, header=True)"
   ]
  },
  {
   "cell_type": "code",
   "execution_count": 30,
   "id": "e2bcc5a6",
   "metadata": {},
   "outputs": [
    {
     "data": {
      "text/plain": [
       "['CDI',\n",
       " 'CDI',\n",
       " 'Stage',\n",
       " 'Stage',\n",
       " 'CDI',\n",
       " 'Alternance',\n",
       " 'CDI',\n",
       " 'CDI',\n",
       " 'Stage',\n",
       " 'CDI',\n",
       " 'CDI',\n",
       " 'CDI',\n",
       " 'CDI',\n",
       " 'CDI',\n",
       " 'Stage',\n",
       " 'CDI',\n",
       " 'CDI',\n",
       " 'CDI',\n",
       " 'Stage',\n",
       " 'CDI',\n",
       " 'CDI',\n",
       " 'CDI',\n",
       " 'CDI',\n",
       " 'CDI',\n",
       " 'CDI',\n",
       " 'Stage',\n",
       " 'CDI',\n",
       " 'CDI',\n",
       " 'CDI',\n",
       " 'CDI']"
      ]
     },
     "execution_count": 30,
     "metadata": {},
     "output_type": "execute_result"
    }
   ],
   "source": [
    "# ContractType \n",
    "# ContractType  is a class=\"ais-Highlight-nonHighlighted\"\n",
    "# ContractType=driver.find_elements_by_css_selector('.sc-1qc42fc-2.bzTNsD')\n",
    "# ContractType\n",
    "\n",
    "job_type = driver.find_elements_by_css_selector('.sc-1qc42fc-4.dLcIHx')\n",
    "list_job_type = [i.find_elements_by_tag_name(\"span\")[1].find_element_by_tag_name(\"span\").text for i in job_type]\n",
    "list_job_type\n"
   ]
  },
  {
   "cell_type": "code",
   "execution_count": 31,
   "id": "7bf3bb91",
   "metadata": {},
   "outputs": [
    {
     "data": {
      "text/html": [
       "<div>\n",
       "<style scoped>\n",
       "    .dataframe tbody tr th:only-of-type {\n",
       "        vertical-align: middle;\n",
       "    }\n",
       "\n",
       "    .dataframe tbody tr th {\n",
       "        vertical-align: top;\n",
       "    }\n",
       "\n",
       "    .dataframe thead th {\n",
       "        text-align: right;\n",
       "    }\n",
       "</style>\n",
       "<table border=\"1\" class=\"dataframe\">\n",
       "  <thead>\n",
       "    <tr style=\"text-align: right;\">\n",
       "      <th></th>\n",
       "      <th>contract type</th>\n",
       "    </tr>\n",
       "  </thead>\n",
       "  <tbody>\n",
       "    <tr>\n",
       "      <th>0</th>\n",
       "      <td>CDI</td>\n",
       "    </tr>\n",
       "    <tr>\n",
       "      <th>1</th>\n",
       "      <td>CDI</td>\n",
       "    </tr>\n",
       "    <tr>\n",
       "      <th>2</th>\n",
       "      <td>Stage</td>\n",
       "    </tr>\n",
       "    <tr>\n",
       "      <th>3</th>\n",
       "      <td>Stage</td>\n",
       "    </tr>\n",
       "    <tr>\n",
       "      <th>4</th>\n",
       "      <td>CDI</td>\n",
       "    </tr>\n",
       "    <tr>\n",
       "      <th>5</th>\n",
       "      <td>Alternance</td>\n",
       "    </tr>\n",
       "    <tr>\n",
       "      <th>6</th>\n",
       "      <td>CDI</td>\n",
       "    </tr>\n",
       "    <tr>\n",
       "      <th>7</th>\n",
       "      <td>CDI</td>\n",
       "    </tr>\n",
       "    <tr>\n",
       "      <th>8</th>\n",
       "      <td>Stage</td>\n",
       "    </tr>\n",
       "    <tr>\n",
       "      <th>9</th>\n",
       "      <td>CDI</td>\n",
       "    </tr>\n",
       "    <tr>\n",
       "      <th>10</th>\n",
       "      <td>CDI</td>\n",
       "    </tr>\n",
       "    <tr>\n",
       "      <th>11</th>\n",
       "      <td>CDI</td>\n",
       "    </tr>\n",
       "    <tr>\n",
       "      <th>12</th>\n",
       "      <td>CDI</td>\n",
       "    </tr>\n",
       "    <tr>\n",
       "      <th>13</th>\n",
       "      <td>CDI</td>\n",
       "    </tr>\n",
       "    <tr>\n",
       "      <th>14</th>\n",
       "      <td>Stage</td>\n",
       "    </tr>\n",
       "    <tr>\n",
       "      <th>15</th>\n",
       "      <td>CDI</td>\n",
       "    </tr>\n",
       "    <tr>\n",
       "      <th>16</th>\n",
       "      <td>CDI</td>\n",
       "    </tr>\n",
       "    <tr>\n",
       "      <th>17</th>\n",
       "      <td>CDI</td>\n",
       "    </tr>\n",
       "    <tr>\n",
       "      <th>18</th>\n",
       "      <td>Stage</td>\n",
       "    </tr>\n",
       "    <tr>\n",
       "      <th>19</th>\n",
       "      <td>CDI</td>\n",
       "    </tr>\n",
       "    <tr>\n",
       "      <th>20</th>\n",
       "      <td>CDI</td>\n",
       "    </tr>\n",
       "    <tr>\n",
       "      <th>21</th>\n",
       "      <td>CDI</td>\n",
       "    </tr>\n",
       "    <tr>\n",
       "      <th>22</th>\n",
       "      <td>CDI</td>\n",
       "    </tr>\n",
       "    <tr>\n",
       "      <th>23</th>\n",
       "      <td>CDI</td>\n",
       "    </tr>\n",
       "    <tr>\n",
       "      <th>24</th>\n",
       "      <td>CDI</td>\n",
       "    </tr>\n",
       "    <tr>\n",
       "      <th>25</th>\n",
       "      <td>Stage</td>\n",
       "    </tr>\n",
       "    <tr>\n",
       "      <th>26</th>\n",
       "      <td>CDI</td>\n",
       "    </tr>\n",
       "    <tr>\n",
       "      <th>27</th>\n",
       "      <td>CDI</td>\n",
       "    </tr>\n",
       "    <tr>\n",
       "      <th>28</th>\n",
       "      <td>CDI</td>\n",
       "    </tr>\n",
       "    <tr>\n",
       "      <th>29</th>\n",
       "      <td>CDI</td>\n",
       "    </tr>\n",
       "  </tbody>\n",
       "</table>\n",
       "</div>"
      ],
      "text/plain": [
       "   contract type\n",
       "0            CDI\n",
       "1            CDI\n",
       "2          Stage\n",
       "3          Stage\n",
       "4            CDI\n",
       "5     Alternance\n",
       "6            CDI\n",
       "7            CDI\n",
       "8          Stage\n",
       "9            CDI\n",
       "10           CDI\n",
       "11           CDI\n",
       "12           CDI\n",
       "13           CDI\n",
       "14         Stage\n",
       "15           CDI\n",
       "16           CDI\n",
       "17           CDI\n",
       "18         Stage\n",
       "19           CDI\n",
       "20           CDI\n",
       "21           CDI\n",
       "22           CDI\n",
       "23           CDI\n",
       "24           CDI\n",
       "25         Stage\n",
       "26           CDI\n",
       "27           CDI\n",
       "28           CDI\n",
       "29           CDI"
      ]
     },
     "execution_count": 31,
     "metadata": {},
     "output_type": "execute_result"
    }
   ],
   "source": [
    "list_job_typeDF = pd.DataFrame({'contract type': list_job_type})\n",
    "list_job_typeDF"
   ]
  },
  {
   "cell_type": "code",
   "execution_count": 32,
   "id": "86f17aba",
   "metadata": {},
   "outputs": [],
   "source": [
    "list_job_typeDF.to_csv (r'C:\\Users\\JORDAN\\Documents\\DSTI\\web-scrapping-job\\list_job_typeDF.csv', index = False, header=True)"
   ]
  },
  {
   "cell_type": "code",
   "execution_count": 33,
   "id": "019b11c1",
   "metadata": {},
   "outputs": [],
   "source": [
    "# close the browser\n",
    "driver.quit()"
   ]
  }
 ],
 "metadata": {
  "kernelspec": {
   "display_name": "Python 3",
   "language": "python",
   "name": "python3"
  },
  "language_info": {
   "codemirror_mode": {
    "name": "ipython",
    "version": 3
   },
   "file_extension": ".py",
   "mimetype": "text/x-python",
   "name": "python",
   "nbconvert_exporter": "python",
   "pygments_lexer": "ipython3",
   "version": "3.6.13"
  }
 },
 "nbformat": 4,
 "nbformat_minor": 5
}
