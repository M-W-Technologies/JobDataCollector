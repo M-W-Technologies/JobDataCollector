{
 "cells": [
  {
   "cell_type": "markdown",
   "id": "f92432bd",
   "metadata": {},
   "source": [
    "# Install Selenium "
   ]
  },
  {
   "cell_type": "code",
   "execution_count": 1,
   "id": "7d44b824",
   "metadata": {},
   "outputs": [
    {
     "name": "stdout",
     "output_type": "stream",
     "text": [
      "Requirement already satisfied: selenium in c:\\users\\jordan\\anaconda3\\envs\\job\\lib\\site-packages (3.141.0)\n",
      "Requirement already satisfied: urllib3 in c:\\users\\jordan\\anaconda3\\envs\\job\\lib\\site-packages (from selenium) (1.26.5)\n",
      "Note: you may need to restart the kernel to use updated packages.\n"
     ]
    }
   ],
   "source": [
    "pip install selenium "
   ]
  },
  {
   "cell_type": "code",
   "execution_count": 3,
   "id": "786af864",
   "metadata": {},
   "outputs": [],
   "source": [
    "from pandas import pandas as pd"
   ]
  },
  {
   "cell_type": "code",
   "execution_count": 4,
   "id": "8b117719",
   "metadata": {},
   "outputs": [],
   "source": [
    "from selenium import webdriver # import webdriver"
   ]
  },
  {
   "cell_type": "code",
   "execution_count": 5,
   "id": "c1f010bc",
   "metadata": {},
   "outputs": [],
   "source": [
    "from selenium.webdriver.common.keys import Keys #KEys"
   ]
  },
  {
   "cell_type": "code",
   "execution_count": 6,
   "id": "handy-partnership",
   "metadata": {},
   "outputs": [],
   "source": [
    "import Dynamic_crawling_script as dc #import the .py script\n"
   ]
  },
  {
   "cell_type": "markdown",
   "id": "magnetic-namibia",
   "metadata": {},
   "source": [
    "### Path Configuration"
   ]
  },
  {
   "cell_type": "code",
   "execution_count": 7,
   "id": "15d0a154",
   "metadata": {
    "scrolled": true
   },
   "outputs": [],
   "source": [
    "from Config import  HOME_FOLDER, DRIVERNAME, DRIVERPATH, DRIVERTYPE"
   ]
  },
  {
   "cell_type": "code",
   "execution_count": 8,
   "id": "d2c7781a",
   "metadata": {},
   "outputs": [],
   "source": [
    "driver = dc.webdriver_creator('Chrome', DRIVERPATH)"
   ]
  },
  {
   "cell_type": "markdown",
   "id": "juvenile-poultry",
   "metadata": {},
   "source": [
    "### URL creation"
   ]
  },
  {
   "cell_type": "code",
   "execution_count": 9,
   "id": "95ef7b5a",
   "metadata": {},
   "outputs": [],
   "source": [
    "# Let's use the function create link using the default value\n",
    "link_de = dc.create_link_v2('data engineer') # execute the function and return an URL which contains the job title and the page \n",
    "# this link is a variable"
   ]
  },
  {
   "cell_type": "code",
   "execution_count": 7,
   "id": "8daab009",
   "metadata": {},
   "outputs": [
    {
     "data": {
      "text/plain": [
       "'https://www.welcometothejungle.com/fr/jobs?query=data%20engineer&page=1'"
      ]
     },
     "execution_count": 7,
     "metadata": {},
     "output_type": "execute_result"
    }
   ],
   "source": [
    "link_de"
   ]
  },
  {
   "cell_type": "code",
   "execution_count": 10,
   "id": "316c3c59",
   "metadata": {},
   "outputs": [
    {
     "data": {
      "text/plain": [
       "'https://www.welcometothejungle.com/fr/jobs?query=data%20engineer&page=2'"
      ]
     },
     "execution_count": 10,
     "metadata": {},
     "output_type": "execute_result"
    }
   ],
   "source": [
    "# Let's use the function create link with our own value\n",
    "link_de_2 = dc.create_link_v2('data engineer', 2) # execute the function and return an URL which contains the job title and the page \n",
    "link_de_2"
   ]
  },
  {
   "cell_type": "code",
   "execution_count": 11,
   "id": "38e3197c",
   "metadata": {},
   "outputs": [
    {
     "data": {
      "text/plain": [
       "'https://www.welcometothejungle.com/fr/jobs?query=data%20scientist&page=1'"
      ]
     },
     "execution_count": 11,
     "metadata": {},
     "output_type": "execute_result"
    }
   ],
   "source": [
    "link_ds = dc.create_link_v2('data scientist')\n",
    "link_ds"
   ]
  },
  {
   "cell_type": "markdown",
   "id": "ordinary-variety",
   "metadata": {},
   "source": [
    "### Opening the URL with Selenium"
   ]
  },
  {
   "cell_type": "code",
   "execution_count": 12,
   "id": "aa428da1",
   "metadata": {},
   "outputs": [],
   "source": [
    "driver.get(link_ds) # open the link with the driver "
   ]
  },
  {
   "cell_type": "code",
   "execution_count": 46,
   "id": "b35e79b2",
   "metadata": {},
   "outputs": [],
   "source": [
    "#Retrieve the html code of the page\n",
    "page_html = driver.page_source"
   ]
  },
  {
   "cell_type": "code",
   "execution_count": null,
   "id": "938dd074",
   "metadata": {},
   "outputs": [],
   "source": [
    "#Print the html code (if you want)\n",
    "#print(page_html)"
   ]
  },
  {
   "cell_type": "code",
   "execution_count": 13,
   "id": "a1669afa",
   "metadata": {},
   "outputs": [],
   "source": [
    "#Find the button to click to accept the cookies\n",
    "button = driver.find_element_by_id(\"axeptio_btn_acceptAll\")\n",
    "#Click on the button\n",
    "button.click()"
   ]
  },
  {
   "cell_type": "code",
   "execution_count": 14,
   "id": "4f8d9f8c",
   "metadata": {},
   "outputs": [],
   "source": [
    "import time"
   ]
  },
  {
   "cell_type": "code",
   "execution_count": 15,
   "id": "2b469345",
   "metadata": {},
   "outputs": [],
   "source": [
    "elem = driver.find_element_by_tag_name(\"body\")\n",
    "for i in range(151):\n",
    "    elem.send_keys(Keys.ARROW_DOWN)\n",
    "    time.sleep(0.1)"
   ]
  },
  {
   "cell_type": "code",
   "execution_count": 16,
   "id": "rental-software",
   "metadata": {},
   "outputs": [
    {
     "data": {
      "text/plain": [
       "[<selenium.webdriver.remote.webelement.WebElement (session=\"12b87f1e2426a47cb9bb354ce905738c\", element=\"da6a6c19-56e3-4ab9-90f4-dec178c5295e\")>,\n",
       " <selenium.webdriver.remote.webelement.WebElement (session=\"12b87f1e2426a47cb9bb354ce905738c\", element=\"5450f1e8-0151-4a0c-9ce9-5d907ef05294\")>,\n",
       " <selenium.webdriver.remote.webelement.WebElement (session=\"12b87f1e2426a47cb9bb354ce905738c\", element=\"55263a8d-fe4c-4cde-8e15-0d4ecd703447\")>,\n",
       " <selenium.webdriver.remote.webelement.WebElement (session=\"12b87f1e2426a47cb9bb354ce905738c\", element=\"565db5c2-3513-48e9-abd9-5cfca885c227\")>,\n",
       " <selenium.webdriver.remote.webelement.WebElement (session=\"12b87f1e2426a47cb9bb354ce905738c\", element=\"4c4e1f87-605b-40d6-8dbb-dfb2b6b60aef\")>,\n",
       " <selenium.webdriver.remote.webelement.WebElement (session=\"12b87f1e2426a47cb9bb354ce905738c\", element=\"8de61d30-8028-4e6c-b1b9-463cd6fd6f01\")>,\n",
       " <selenium.webdriver.remote.webelement.WebElement (session=\"12b87f1e2426a47cb9bb354ce905738c\", element=\"8dcb4dcb-2628-4c87-9532-41c2f669c495\")>,\n",
       " <selenium.webdriver.remote.webelement.WebElement (session=\"12b87f1e2426a47cb9bb354ce905738c\", element=\"317fe3a7-5285-450d-a5cc-1ddbc6e5e4e0\")>,\n",
       " <selenium.webdriver.remote.webelement.WebElement (session=\"12b87f1e2426a47cb9bb354ce905738c\", element=\"bf029a3e-d6dc-40e8-9bf0-3274cf56261d\")>,\n",
       " <selenium.webdriver.remote.webelement.WebElement (session=\"12b87f1e2426a47cb9bb354ce905738c\", element=\"e3adae62-033d-49fe-a39f-9fda33050290\")>,\n",
       " <selenium.webdriver.remote.webelement.WebElement (session=\"12b87f1e2426a47cb9bb354ce905738c\", element=\"60929506-6152-40e3-858d-e62821d1419d\")>,\n",
       " <selenium.webdriver.remote.webelement.WebElement (session=\"12b87f1e2426a47cb9bb354ce905738c\", element=\"c8a579b9-0e48-49af-a0f7-6a8433b6c739\")>,\n",
       " <selenium.webdriver.remote.webelement.WebElement (session=\"12b87f1e2426a47cb9bb354ce905738c\", element=\"34c9362d-1bcb-4c53-8ddb-bd6921fd0237\")>,\n",
       " <selenium.webdriver.remote.webelement.WebElement (session=\"12b87f1e2426a47cb9bb354ce905738c\", element=\"b51c115b-d395-43f8-a284-d56f604d55c0\")>,\n",
       " <selenium.webdriver.remote.webelement.WebElement (session=\"12b87f1e2426a47cb9bb354ce905738c\", element=\"433973d2-e188-4518-a410-ebe0ce525c0b\")>,\n",
       " <selenium.webdriver.remote.webelement.WebElement (session=\"12b87f1e2426a47cb9bb354ce905738c\", element=\"981be93d-83bb-4dd8-be1e-cd4e3b2d7af2\")>,\n",
       " <selenium.webdriver.remote.webelement.WebElement (session=\"12b87f1e2426a47cb9bb354ce905738c\", element=\"58ca88e1-17a5-4b34-8d2b-e019d2076605\")>,\n",
       " <selenium.webdriver.remote.webelement.WebElement (session=\"12b87f1e2426a47cb9bb354ce905738c\", element=\"bd5a3b0a-f62d-4392-8da3-6dbbca95b282\")>]"
      ]
     },
     "execution_count": 16,
     "metadata": {},
     "output_type": "execute_result"
    }
   ],
   "source": [
    "#Find logo elements in the webpage\n",
    "#every logo element seem to have the following class name here: sc-1kkiv1h-8 iwJoCg\n",
    "logos = driver.find_elements_by_css_selector('img.sc-1kkiv1h-8.iwJoCg')\n",
    "logos"
   ]
  },
  {
   "cell_type": "code",
   "execution_count": 17,
   "id": "f5071c34",
   "metadata": {
    "scrolled": true
   },
   "outputs": [
    {
     "data": {
      "text/plain": [
       "['https://cdn-images.welcometothejungle.com/7nkrhHK7dL_bChNIQNUJZLFcB0fLGXp1ewFN1sc14pQ/w:200/q:85/czM6Ly93dHRqLXBy/b2R1Y3Rpb24vdXBs/b2Fkcy9vcmdhbml6/YXRpb24vbG9nby80/MTIyLzE1NDUwNC83/ZjFhM2YwOC1kZTll/LTQ4OGUtYjcwYy0y/OTZmOGU1OGU0MmIu/anBn',\n",
       " 'https://cdn-images.welcometothejungle.com/weYyoA7FEPrJWZtCt5fhupsuAFi-IDNTSiEz0Lr2AtA/w:200/q:85/czM6Ly93dHRqLXBy/b2R1Y3Rpb24vdXBs/b2Fkcy9vcmdhbml6/YXRpb24vbG9nby8y/MDU3LzE0ODIyNC8z/NDg2NzcyOS03ZTY3/LTQwYjgtOTU4ZS1i/Njc2ZmNhNjBkNjMu/anBn',\n",
       " 'https://cdn-images.welcometothejungle.com/AZDxxCM__TvTt5224U-5xfR6515aMOUhIGrg6S5YBM8/w:200/q:85/czM6Ly93dHRqLXBy/b2R1Y3Rpb24vdXBs/b2Fkcy9vcmdhbml6/YXRpb24vbG9nby84/NzQ2LzE1NzQyNC8y/YmUxZWMyMC0zY2Y3/LTRiNGItYTM3Ni02/Y2YwYjEyOGVjZWIu/cG5n',\n",
       " 'https://cdn-images.welcometothejungle.com/gr9MYT1gS-t_C5mVjKGfX3dvksl-esXHpNZsdKbXf7E/w:200/q:85/czM6Ly93dHRqLXBy/b2R1Y3Rpb24vdXBs/b2Fkcy9vcmdhbml6/YXRpb24vbG9nby83/MjI5LzE1MDgxNS81/NjBlOTk2MC03MjYw/LTQ2YjEtOWUzNy05/YzE1NTNlMTMzYzEu/cG5n',\n",
       " 'https://cdn-images.welcometothejungle.com/Ny93J_XnxXihtrUbHvLrP_MAbM-mj0nopt673fCwftg/w:200/q:85/czM6Ly93dHRqLXBy/b2R1Y3Rpb24vdXBs/b2Fkcy9vcmdhbml6/YXRpb24vbG9nby80/MjI0LzE1MTM3OC8x/NmQ1MjFmOC0zYjdi/LTQ3MTYtYmM3OS1l/YmZiNzI1ZWFmZTUu/cG5n',\n",
       " 'https://cdn-images.welcometothejungle.com/N8jwRetyvQv_zPtfFVb9gs2iFVZ0FU5DI71zeOzsnWE/w:200/q:85/czM6Ly93dHRqLXBy/b2R1Y3Rpb24vdXBs/b2Fkcy9vcmdhbml6/YXRpb24vbG9nby84/NTY0LzE0ODAwNy9h/ZGIyZTc0NC0yMzAx/LTQ3NzEtYTVkOC1j/ZDJjM2E0ZmY5NTYu/cG5n',\n",
       " 'https://cdn-images.welcometothejungle.com/N8jwRetyvQv_zPtfFVb9gs2iFVZ0FU5DI71zeOzsnWE/w:200/q:85/czM6Ly93dHRqLXBy/b2R1Y3Rpb24vdXBs/b2Fkcy9vcmdhbml6/YXRpb24vbG9nby84/NTY0LzE0ODAwNy9h/ZGIyZTc0NC0yMzAx/LTQ3NzEtYTVkOC1j/ZDJjM2E0ZmY5NTYu/cG5n',\n",
       " 'https://cdn-images.welcometothejungle.com/N8jwRetyvQv_zPtfFVb9gs2iFVZ0FU5DI71zeOzsnWE/w:200/q:85/czM6Ly93dHRqLXBy/b2R1Y3Rpb24vdXBs/b2Fkcy9vcmdhbml6/YXRpb24vbG9nby84/NTY0LzE0ODAwNy9h/ZGIyZTc0NC0yMzAx/LTQ3NzEtYTVkOC1j/ZDJjM2E0ZmY5NTYu/cG5n',\n",
       " 'https://cdn-images.welcometothejungle.com/N8jwRetyvQv_zPtfFVb9gs2iFVZ0FU5DI71zeOzsnWE/w:200/q:85/czM6Ly93dHRqLXBy/b2R1Y3Rpb24vdXBs/b2Fkcy9vcmdhbml6/YXRpb24vbG9nby84/NTY0LzE0ODAwNy9h/ZGIyZTc0NC0yMzAx/LTQ3NzEtYTVkOC1j/ZDJjM2E0ZmY5NTYu/cG5n',\n",
       " 'https://cdn-images.welcometothejungle.com/Y_5rhEEAp4VdMGFwyfmV0IIzGKJxftVfwiLGc-VQAho/w:200/q:85/czM6Ly93dHRqLXBy/b2R1Y3Rpb24vdXBs/b2Fkcy9vcmdhbml6/YXRpb24vbG9nby82/MDcyLzE0ODU0NC9h/NzgwOGU4NC03MjQz/LTRlOGYtODIzMS0w/MzQ1OTczMDI2M2Mu/cG5n',\n",
       " 'https://cdn-images.welcometothejungle.com/-NgRous1DyQujgh3Lp3ILHpeiCvomAlJX8F4wLB0at8/w:200/q:85/czM6Ly93dHRqLXBy/b2R1Y3Rpb24vdXBs/b2Fkcy9vcmdhbml6/YXRpb24vbG9nby8y/NDM2LzE1NDgyNi80/NWFjNDYwZi05ODdh/LTRlOWUtOGVmMy0z/YTUzOWRlODFmNzEu/cG5n',\n",
       " 'https://cdn-images.welcometothejungle.com/zoOWsQz2NXuwh778RICw2AI2t-4CtuHjvw1nR-5ksXA/w:200/q:85/czM6Ly93dHRqLXBy/b2R1Y3Rpb24vdXBs/b2Fkcy9vcmdhbml6/YXRpb24vbG9nby8z/Mjc5LzE1MDQxOS82/MTljYWY4YS1iOWE4/LTQyNDktOWFhMi01/NTYwNWEwYWFmNTUu/cG5n',\n",
       " 'https://cdn-images.welcometothejungle.com/RoYfU_5FZMU8lH2tF1viCGnaUkM_-4IaGjcG1rcb2HE/w:200/q:85/czM6Ly93dHRqLXBy/b2R1Y3Rpb24vdXBs/b2Fkcy9vcmdhbml6/YXRpb24vbG9nby8x/ODQ0LzE1Njk1MC9k/N2ZjODBlOC03MTU5/LTQ5ZjUtYmJjMS0z/OGM5ZDE1YWMyZGEu/cG5n',\n",
       " 'https://cdn-images.welcometothejungle.com/Y_5rhEEAp4VdMGFwyfmV0IIzGKJxftVfwiLGc-VQAho/w:200/q:85/czM6Ly93dHRqLXBy/b2R1Y3Rpb24vdXBs/b2Fkcy9vcmdhbml6/YXRpb24vbG9nby82/MDcyLzE0ODU0NC9h/NzgwOGU4NC03MjQz/LTRlOGYtODIzMS0w/MzQ1OTczMDI2M2Mu/cG5n',\n",
       " 'https://cdn-images.welcometothejungle.com/PXIcd4F4yqFvnz_XaSUiFktkpeR-hDJboysQAPpvnIs/w:200/q:85/czM6Ly93dHRqLXBy/b2R1Y3Rpb24vdXBs/b2Fkcy9vcmdhbml6/YXRpb24vbG9nby80/ODQ1LzE1NzkwMS8x/NTBmMWVjZi02ZTRj/LTRkNzEtYTQwNi1i/OWZlNzY2OGQ0OWQu/cG5n',\n",
       " 'https://cdn-images.welcometothejungle.com/pg2SvHg36EaMdXCIm53USsQIgPv3p9Cj9gKwYvakTIc/w:200/q:85/czM6Ly93dHRqLXBy/b2R1Y3Rpb24vdXBs/b2Fkcy9vcmdhbml6/YXRpb24vbG9nby8y/NzM0LzE1NzU5Ny82/NDAxYzZjOS1jNDQz/LTRhNWMtOTYwZC1i/YmQ2YzE4YjhiNDMu/cG5n',\n",
       " 'https://cdn-images.welcometothejungle.com/Y1VAqvJ-SCk5-VPZEgzFYgH-snutKJ4Fprg87I98Ys4/w:200/q:85/czM6Ly93dHRqLXBy/b2R1Y3Rpb24vdXBs/b2Fkcy9vcmdhbml6/YXRpb24vbG9nby82/MDYyLzE1ODIwMS83/YWYzZDQxMS05Y2Q5/LTQxNjEtOTEwYS0w/MDZlMzg1MmMyMDEu/anBn',\n",
       " 'https://cdn-images.welcometothejungle.com/aBBHOsIx_1YlfW7xjpDvgyA2At9VsUEIzEwSKTp1hpQ/w:200/q:85/czM6Ly93dHRqLXBy/b2R1Y3Rpb24vdXBs/b2Fkcy9vcmdhbml6/YXRpb24vbG9nby80/MTk2LzE0OTY5OS9h/MGY4NWIxNS1hNWJm/LTRmNzMtODg3OS05/NzhlNDY0MjFlNWUu/cG5n']"
      ]
     },
     "execution_count": 17,
     "metadata": {},
     "output_type": "execute_result"
    }
   ],
   "source": [
    "# create a list with SRC (HTML path) of each element of the previous list\n",
    "# we use  list comprehension method here \n",
    "myList = [el.get_attribute(\"src\") for el in logos]\n",
    "myList"
   ]
  },
  {
   "cell_type": "code",
   "execution_count": 34,
   "id": "3a33cfee",
   "metadata": {},
   "outputs": [
    {
     "data": {
      "text/html": [
       "<div>\n",
       "<style scoped>\n",
       "    .dataframe tbody tr th:only-of-type {\n",
       "        vertical-align: middle;\n",
       "    }\n",
       "\n",
       "    .dataframe tbody tr th {\n",
       "        vertical-align: top;\n",
       "    }\n",
       "\n",
       "    .dataframe thead th {\n",
       "        text-align: right;\n",
       "    }\n",
       "</style>\n",
       "<table border=\"1\" class=\"dataframe\">\n",
       "  <thead>\n",
       "    <tr style=\"text-align: right;\">\n",
       "      <th></th>\n",
       "      <th>logo</th>\n",
       "    </tr>\n",
       "  </thead>\n",
       "  <tbody>\n",
       "    <tr>\n",
       "      <th>0</th>\n",
       "      <td>https://cdn-images.welcometothejungle.com/7nkr...</td>\n",
       "    </tr>\n",
       "    <tr>\n",
       "      <th>1</th>\n",
       "      <td>https://cdn-images.welcometothejungle.com/weYy...</td>\n",
       "    </tr>\n",
       "    <tr>\n",
       "      <th>2</th>\n",
       "      <td>https://cdn-images.welcometothejungle.com/AZDx...</td>\n",
       "    </tr>\n",
       "    <tr>\n",
       "      <th>3</th>\n",
       "      <td>https://cdn-images.welcometothejungle.com/gr9M...</td>\n",
       "    </tr>\n",
       "    <tr>\n",
       "      <th>4</th>\n",
       "      <td>https://cdn-images.welcometothejungle.com/Ny93...</td>\n",
       "    </tr>\n",
       "    <tr>\n",
       "      <th>5</th>\n",
       "      <td>https://cdn-images.welcometothejungle.com/N8jw...</td>\n",
       "    </tr>\n",
       "    <tr>\n",
       "      <th>6</th>\n",
       "      <td>https://cdn-images.welcometothejungle.com/N8jw...</td>\n",
       "    </tr>\n",
       "    <tr>\n",
       "      <th>7</th>\n",
       "      <td>https://cdn-images.welcometothejungle.com/N8jw...</td>\n",
       "    </tr>\n",
       "    <tr>\n",
       "      <th>8</th>\n",
       "      <td>https://cdn-images.welcometothejungle.com/N8jw...</td>\n",
       "    </tr>\n",
       "    <tr>\n",
       "      <th>9</th>\n",
       "      <td>https://cdn-images.welcometothejungle.com/Y_5r...</td>\n",
       "    </tr>\n",
       "    <tr>\n",
       "      <th>10</th>\n",
       "      <td>https://cdn-images.welcometothejungle.com/-NgR...</td>\n",
       "    </tr>\n",
       "    <tr>\n",
       "      <th>11</th>\n",
       "      <td>https://cdn-images.welcometothejungle.com/zoOW...</td>\n",
       "    </tr>\n",
       "    <tr>\n",
       "      <th>12</th>\n",
       "      <td>https://cdn-images.welcometothejungle.com/RoYf...</td>\n",
       "    </tr>\n",
       "    <tr>\n",
       "      <th>13</th>\n",
       "      <td>https://cdn-images.welcometothejungle.com/Y_5r...</td>\n",
       "    </tr>\n",
       "    <tr>\n",
       "      <th>14</th>\n",
       "      <td>https://cdn-images.welcometothejungle.com/PXIc...</td>\n",
       "    </tr>\n",
       "    <tr>\n",
       "      <th>15</th>\n",
       "      <td>https://cdn-images.welcometothejungle.com/pg2S...</td>\n",
       "    </tr>\n",
       "    <tr>\n",
       "      <th>16</th>\n",
       "      <td>https://cdn-images.welcometothejungle.com/Y1VA...</td>\n",
       "    </tr>\n",
       "    <tr>\n",
       "      <th>17</th>\n",
       "      <td>https://cdn-images.welcometothejungle.com/aBBH...</td>\n",
       "    </tr>\n",
       "  </tbody>\n",
       "</table>\n",
       "</div>"
      ],
      "text/plain": [
       "                                                 logo\n",
       "0   https://cdn-images.welcometothejungle.com/7nkr...\n",
       "1   https://cdn-images.welcometothejungle.com/weYy...\n",
       "2   https://cdn-images.welcometothejungle.com/AZDx...\n",
       "3   https://cdn-images.welcometothejungle.com/gr9M...\n",
       "4   https://cdn-images.welcometothejungle.com/Ny93...\n",
       "5   https://cdn-images.welcometothejungle.com/N8jw...\n",
       "6   https://cdn-images.welcometothejungle.com/N8jw...\n",
       "7   https://cdn-images.welcometothejungle.com/N8jw...\n",
       "8   https://cdn-images.welcometothejungle.com/N8jw...\n",
       "9   https://cdn-images.welcometothejungle.com/Y_5r...\n",
       "10  https://cdn-images.welcometothejungle.com/-NgR...\n",
       "11  https://cdn-images.welcometothejungle.com/zoOW...\n",
       "12  https://cdn-images.welcometothejungle.com/RoYf...\n",
       "13  https://cdn-images.welcometothejungle.com/Y_5r...\n",
       "14  https://cdn-images.welcometothejungle.com/PXIc...\n",
       "15  https://cdn-images.welcometothejungle.com/pg2S...\n",
       "16  https://cdn-images.welcometothejungle.com/Y1VA...\n",
       "17  https://cdn-images.welcometothejungle.com/aBBH..."
      ]
     },
     "execution_count": 34,
     "metadata": {},
     "output_type": "execute_result"
    }
   ],
   "source": [
    "logoDF = pd.DataFrame({'logo': myList})\n",
    "logoDF"
   ]
  },
  {
   "cell_type": "code",
   "execution_count": 35,
   "id": "6ae0fe35",
   "metadata": {},
   "outputs": [],
   "source": [
    "logoDF.to_csv (r'C:\\Users\\JORDAN\\Documents\\DSTI\\web-scrapping-job\\logoDF.csv', index = False, header=True)"
   ]
  },
  {
   "cell_type": "code",
   "execution_count": 19,
   "id": "1f560fbf",
   "metadata": {},
   "outputs": [
    {
     "data": {
      "text/plain": [
       "[<selenium.webdriver.remote.webelement.WebElement (session=\"12b87f1e2426a47cb9bb354ce905738c\", element=\"4132e789-4bda-4ca7-b14b-c8679a68fba4\")>,\n",
       " <selenium.webdriver.remote.webelement.WebElement (session=\"12b87f1e2426a47cb9bb354ce905738c\", element=\"9053bf5e-470a-420b-9625-e34c4da6057e\")>,\n",
       " <selenium.webdriver.remote.webelement.WebElement (session=\"12b87f1e2426a47cb9bb354ce905738c\", element=\"108f8ebd-45c1-413c-918b-cf00fbeacf82\")>,\n",
       " <selenium.webdriver.remote.webelement.WebElement (session=\"12b87f1e2426a47cb9bb354ce905738c\", element=\"7c6be4e3-8a31-4c4a-9952-3dcdad29eafa\")>,\n",
       " <selenium.webdriver.remote.webelement.WebElement (session=\"12b87f1e2426a47cb9bb354ce905738c\", element=\"732822ca-e7bd-4eb0-bc9c-c0c83117316b\")>,\n",
       " <selenium.webdriver.remote.webelement.WebElement (session=\"12b87f1e2426a47cb9bb354ce905738c\", element=\"6f96423c-9343-4fd8-aab7-68eafebfae17\")>,\n",
       " <selenium.webdriver.remote.webelement.WebElement (session=\"12b87f1e2426a47cb9bb354ce905738c\", element=\"08982b36-5d73-45a5-8723-4cc0d345a9e6\")>,\n",
       " <selenium.webdriver.remote.webelement.WebElement (session=\"12b87f1e2426a47cb9bb354ce905738c\", element=\"2b0ccad1-e8fa-4862-afdd-4545bab6e2bb\")>,\n",
       " <selenium.webdriver.remote.webelement.WebElement (session=\"12b87f1e2426a47cb9bb354ce905738c\", element=\"79698de7-40c4-48ca-839e-1e11b582845b\")>,\n",
       " <selenium.webdriver.remote.webelement.WebElement (session=\"12b87f1e2426a47cb9bb354ce905738c\", element=\"49b811d5-6e2d-462b-8bf0-e1da049d163b\")>,\n",
       " <selenium.webdriver.remote.webelement.WebElement (session=\"12b87f1e2426a47cb9bb354ce905738c\", element=\"14d44585-d46d-4eb6-9b2d-ace8b33ce732\")>,\n",
       " <selenium.webdriver.remote.webelement.WebElement (session=\"12b87f1e2426a47cb9bb354ce905738c\", element=\"0f5f21d1-c686-48ad-a6e3-440c63bcd6c3\")>,\n",
       " <selenium.webdriver.remote.webelement.WebElement (session=\"12b87f1e2426a47cb9bb354ce905738c\", element=\"598d30bd-bf35-4590-af1f-2a143bf0b73b\")>,\n",
       " <selenium.webdriver.remote.webelement.WebElement (session=\"12b87f1e2426a47cb9bb354ce905738c\", element=\"14737f38-8ff7-4268-92e6-1eb4f7733e7c\")>,\n",
       " <selenium.webdriver.remote.webelement.WebElement (session=\"12b87f1e2426a47cb9bb354ce905738c\", element=\"b9196e95-8fa4-4391-bd4a-491ca5930f6e\")>,\n",
       " <selenium.webdriver.remote.webelement.WebElement (session=\"12b87f1e2426a47cb9bb354ce905738c\", element=\"c86aa2a6-5b9f-40be-bf45-eaaeec378353\")>,\n",
       " <selenium.webdriver.remote.webelement.WebElement (session=\"12b87f1e2426a47cb9bb354ce905738c\", element=\"fac6ca23-428d-4885-b222-3325221653c9\")>,\n",
       " <selenium.webdriver.remote.webelement.WebElement (session=\"12b87f1e2426a47cb9bb354ce905738c\", element=\"24437ca8-262f-42b3-bdb5-3c1e8a32b612\")>,\n",
       " <selenium.webdriver.remote.webelement.WebElement (session=\"12b87f1e2426a47cb9bb354ce905738c\", element=\"2642ae65-a186-409c-a7ea-c27216dbb054\")>,\n",
       " <selenium.webdriver.remote.webelement.WebElement (session=\"12b87f1e2426a47cb9bb354ce905738c\", element=\"0efa39cc-b4c3-465d-a8fc-43bc5dfc3578\")>,\n",
       " <selenium.webdriver.remote.webelement.WebElement (session=\"12b87f1e2426a47cb9bb354ce905738c\", element=\"d21eb604-f80b-4bb7-a324-6b4e91aa749e\")>,\n",
       " <selenium.webdriver.remote.webelement.WebElement (session=\"12b87f1e2426a47cb9bb354ce905738c\", element=\"b0805cc5-ed37-48a6-b74d-04a8d05bf7cc\")>,\n",
       " <selenium.webdriver.remote.webelement.WebElement (session=\"12b87f1e2426a47cb9bb354ce905738c\", element=\"859c73d7-2d0a-41be-bfde-3f17413c2092\")>,\n",
       " <selenium.webdriver.remote.webelement.WebElement (session=\"12b87f1e2426a47cb9bb354ce905738c\", element=\"b145a8e7-2d35-4bf4-ae81-67bbf5d3bbf6\")>,\n",
       " <selenium.webdriver.remote.webelement.WebElement (session=\"12b87f1e2426a47cb9bb354ce905738c\", element=\"543e776a-b61a-4c39-8088-436a521a6c10\")>,\n",
       " <selenium.webdriver.remote.webelement.WebElement (session=\"12b87f1e2426a47cb9bb354ce905738c\", element=\"bc2ecbb2-1ecf-4686-bd4f-9e7b50e06723\")>,\n",
       " <selenium.webdriver.remote.webelement.WebElement (session=\"12b87f1e2426a47cb9bb354ce905738c\", element=\"c6dc5de4-1238-4637-973d-fdb4cfe8f478\")>,\n",
       " <selenium.webdriver.remote.webelement.WebElement (session=\"12b87f1e2426a47cb9bb354ce905738c\", element=\"3e25f98f-5e3b-4385-9649-702a3847b51d\")>,\n",
       " <selenium.webdriver.remote.webelement.WebElement (session=\"12b87f1e2426a47cb9bb354ce905738c\", element=\"2a3087f7-c102-4b8c-b9b5-d8c23cb4ed12\")>,\n",
       " <selenium.webdriver.remote.webelement.WebElement (session=\"12b87f1e2426a47cb9bb354ce905738c\", element=\"371855af-a189-457d-9802-8f2d36ad4205\")>]"
      ]
     },
     "execution_count": 19,
     "metadata": {},
     "output_type": "execute_result"
    }
   ],
   "source": [
    "# company name\n",
    "# compan_name  is a class=\"ais-Highlight-nonHighlighted\"\n",
    "companyName=driver.find_elements_by_css_selector('.ais-Highlight-nonHighlighted')\n",
    "companyName"
   ]
  },
  {
   "cell_type": "code",
   "execution_count": 24,
   "id": "8b00191c",
   "metadata": {},
   "outputs": [
    {
     "data": {
      "text/plain": [
       "['Margo',\n",
       " 'Botify',\n",
       " 'Orange',\n",
       " 'Pretto',\n",
       " 'namR',\n",
       " 'Shift Technology',\n",
       " 'Shift Technology',\n",
       " 'Shift Technology',\n",
       " 'Shift Technology',\n",
       " 'leboncoin',\n",
       " 'QuantCube Technology',\n",
       " 'MWM',\n",
       " 'Equancy',\n",
       " 'leboncoin',\n",
       " 'DialOnce',\n",
       " 'Tribvn Healthcare',\n",
       " 'Unify',\n",
       " 'Datadog',\n",
       " 'Qualitelis',\n",
       " 'Virtuo',\n",
       " 'Cdiscount',\n",
       " 'Comptalib',\n",
       " 'Vizzit',\n",
       " 'Bevouac',\n",
       " 'MANUCURIST',\n",
       " 'Groupe Rocher',\n",
       " 'LittleBigCode',\n",
       " 'LUNI',\n",
       " 'Lixo',\n",
       " 'Quantmetry']"
      ]
     },
     "execution_count": 24,
     "metadata": {},
     "output_type": "execute_result"
    }
   ],
   "source": [
    "# create a list with SRC (HTML path) of each element of the previous list\n",
    "# we use  list comprehension method here \n",
    "myListCompany = [el.text for el in companyName]\n",
    "myListCompany"
   ]
  },
  {
   "cell_type": "code",
   "execution_count": 25,
   "id": "74b84a67",
   "metadata": {},
   "outputs": [
    {
     "data": {
      "text/html": [
       "<div>\n",
       "<style scoped>\n",
       "    .dataframe tbody tr th:only-of-type {\n",
       "        vertical-align: middle;\n",
       "    }\n",
       "\n",
       "    .dataframe tbody tr th {\n",
       "        vertical-align: top;\n",
       "    }\n",
       "\n",
       "    .dataframe thead th {\n",
       "        text-align: right;\n",
       "    }\n",
       "</style>\n",
       "<table border=\"1\" class=\"dataframe\">\n",
       "  <thead>\n",
       "    <tr style=\"text-align: right;\">\n",
       "      <th></th>\n",
       "      <th>company name</th>\n",
       "    </tr>\n",
       "  </thead>\n",
       "  <tbody>\n",
       "    <tr>\n",
       "      <th>0</th>\n",
       "      <td>Margo</td>\n",
       "    </tr>\n",
       "    <tr>\n",
       "      <th>1</th>\n",
       "      <td>Botify</td>\n",
       "    </tr>\n",
       "    <tr>\n",
       "      <th>2</th>\n",
       "      <td>Orange</td>\n",
       "    </tr>\n",
       "    <tr>\n",
       "      <th>3</th>\n",
       "      <td>Pretto</td>\n",
       "    </tr>\n",
       "    <tr>\n",
       "      <th>4</th>\n",
       "      <td>namR</td>\n",
       "    </tr>\n",
       "    <tr>\n",
       "      <th>5</th>\n",
       "      <td>Shift Technology</td>\n",
       "    </tr>\n",
       "    <tr>\n",
       "      <th>6</th>\n",
       "      <td>Shift Technology</td>\n",
       "    </tr>\n",
       "    <tr>\n",
       "      <th>7</th>\n",
       "      <td>Shift Technology</td>\n",
       "    </tr>\n",
       "    <tr>\n",
       "      <th>8</th>\n",
       "      <td>Shift Technology</td>\n",
       "    </tr>\n",
       "    <tr>\n",
       "      <th>9</th>\n",
       "      <td>leboncoin</td>\n",
       "    </tr>\n",
       "    <tr>\n",
       "      <th>10</th>\n",
       "      <td>QuantCube Technology</td>\n",
       "    </tr>\n",
       "    <tr>\n",
       "      <th>11</th>\n",
       "      <td>MWM</td>\n",
       "    </tr>\n",
       "    <tr>\n",
       "      <th>12</th>\n",
       "      <td>Equancy</td>\n",
       "    </tr>\n",
       "    <tr>\n",
       "      <th>13</th>\n",
       "      <td>leboncoin</td>\n",
       "    </tr>\n",
       "    <tr>\n",
       "      <th>14</th>\n",
       "      <td>DialOnce</td>\n",
       "    </tr>\n",
       "    <tr>\n",
       "      <th>15</th>\n",
       "      <td>Tribvn Healthcare</td>\n",
       "    </tr>\n",
       "    <tr>\n",
       "      <th>16</th>\n",
       "      <td>Unify</td>\n",
       "    </tr>\n",
       "    <tr>\n",
       "      <th>17</th>\n",
       "      <td>Datadog</td>\n",
       "    </tr>\n",
       "    <tr>\n",
       "      <th>18</th>\n",
       "      <td>Qualitelis</td>\n",
       "    </tr>\n",
       "    <tr>\n",
       "      <th>19</th>\n",
       "      <td>Virtuo</td>\n",
       "    </tr>\n",
       "    <tr>\n",
       "      <th>20</th>\n",
       "      <td>Cdiscount</td>\n",
       "    </tr>\n",
       "    <tr>\n",
       "      <th>21</th>\n",
       "      <td>Comptalib</td>\n",
       "    </tr>\n",
       "    <tr>\n",
       "      <th>22</th>\n",
       "      <td>Vizzit</td>\n",
       "    </tr>\n",
       "    <tr>\n",
       "      <th>23</th>\n",
       "      <td>Bevouac</td>\n",
       "    </tr>\n",
       "    <tr>\n",
       "      <th>24</th>\n",
       "      <td>MANUCURIST</td>\n",
       "    </tr>\n",
       "    <tr>\n",
       "      <th>25</th>\n",
       "      <td>Groupe Rocher</td>\n",
       "    </tr>\n",
       "    <tr>\n",
       "      <th>26</th>\n",
       "      <td>LittleBigCode</td>\n",
       "    </tr>\n",
       "    <tr>\n",
       "      <th>27</th>\n",
       "      <td>LUNI</td>\n",
       "    </tr>\n",
       "    <tr>\n",
       "      <th>28</th>\n",
       "      <td>Lixo</td>\n",
       "    </tr>\n",
       "    <tr>\n",
       "      <th>29</th>\n",
       "      <td>Quantmetry</td>\n",
       "    </tr>\n",
       "  </tbody>\n",
       "</table>\n",
       "</div>"
      ],
      "text/plain": [
       "            company name\n",
       "0                  Margo\n",
       "1                 Botify\n",
       "2                 Orange\n",
       "3                 Pretto\n",
       "4                   namR\n",
       "5       Shift Technology\n",
       "6       Shift Technology\n",
       "7       Shift Technology\n",
       "8       Shift Technology\n",
       "9              leboncoin\n",
       "10  QuantCube Technology\n",
       "11                   MWM\n",
       "12               Equancy\n",
       "13             leboncoin\n",
       "14              DialOnce\n",
       "15     Tribvn Healthcare\n",
       "16                 Unify\n",
       "17               Datadog\n",
       "18            Qualitelis\n",
       "19                Virtuo\n",
       "20             Cdiscount\n",
       "21             Comptalib\n",
       "22                Vizzit\n",
       "23               Bevouac\n",
       "24            MANUCURIST\n",
       "25         Groupe Rocher\n",
       "26         LittleBigCode\n",
       "27                  LUNI\n",
       "28                  Lixo\n",
       "29            Quantmetry"
      ]
     },
     "execution_count": 25,
     "metadata": {},
     "output_type": "execute_result"
    }
   ],
   "source": [
    "companyNameDF = pd.DataFrame({'company name': myListCompany})\n",
    "companyNameDF"
   ]
  },
  {
   "cell_type": "code",
   "execution_count": 33,
   "id": "9d15d56e",
   "metadata": {},
   "outputs": [],
   "source": [
    "companyNameDF.to_csv (r'C:\\Users\\JORDAN\\Documents\\DSTI\\web-scrapping-job\\companyNameDF.csv', index = False, header=True)"
   ]
  },
  {
   "cell_type": "code",
   "execution_count": 28,
   "id": "27e518e7",
   "metadata": {},
   "outputs": [
    {
     "data": {
      "text/plain": [
       "[<selenium.webdriver.remote.webelement.WebElement (session=\"12b87f1e2426a47cb9bb354ce905738c\", element=\"8f4946fd-361d-4ef5-aa9b-b16d3dee45cf\")>,\n",
       " <selenium.webdriver.remote.webelement.WebElement (session=\"12b87f1e2426a47cb9bb354ce905738c\", element=\"e0fbbb48-ef87-4bfa-9f23-fdd074d7b159\")>,\n",
       " <selenium.webdriver.remote.webelement.WebElement (session=\"12b87f1e2426a47cb9bb354ce905738c\", element=\"6eedffbf-88d4-432c-98d8-4a1f2d61b76e\")>,\n",
       " <selenium.webdriver.remote.webelement.WebElement (session=\"12b87f1e2426a47cb9bb354ce905738c\", element=\"c595f00c-c336-48ab-913c-3d841cc40b2f\")>,\n",
       " <selenium.webdriver.remote.webelement.WebElement (session=\"12b87f1e2426a47cb9bb354ce905738c\", element=\"6bab0870-3a02-49a5-a827-51f815aae20f\")>,\n",
       " <selenium.webdriver.remote.webelement.WebElement (session=\"12b87f1e2426a47cb9bb354ce905738c\", element=\"447e6c61-1dd2-440c-82be-888c432406f3\")>,\n",
       " <selenium.webdriver.remote.webelement.WebElement (session=\"12b87f1e2426a47cb9bb354ce905738c\", element=\"05629c2c-525f-4d26-b33b-70c0be0fcf19\")>,\n",
       " <selenium.webdriver.remote.webelement.WebElement (session=\"12b87f1e2426a47cb9bb354ce905738c\", element=\"5781a6a3-026b-4e47-895d-3cc7f63549d8\")>,\n",
       " <selenium.webdriver.remote.webelement.WebElement (session=\"12b87f1e2426a47cb9bb354ce905738c\", element=\"97a100a1-bf5d-428a-b06a-6d1df4af6e05\")>,\n",
       " <selenium.webdriver.remote.webelement.WebElement (session=\"12b87f1e2426a47cb9bb354ce905738c\", element=\"69602458-fbcf-49c5-8a20-1635f8615e1d\")>,\n",
       " <selenium.webdriver.remote.webelement.WebElement (session=\"12b87f1e2426a47cb9bb354ce905738c\", element=\"acbc13cc-1923-42f8-8902-7d8ed5cbf94f\")>,\n",
       " <selenium.webdriver.remote.webelement.WebElement (session=\"12b87f1e2426a47cb9bb354ce905738c\", element=\"00316472-b599-4911-898c-55c9edb7b2a6\")>,\n",
       " <selenium.webdriver.remote.webelement.WebElement (session=\"12b87f1e2426a47cb9bb354ce905738c\", element=\"0faaa74c-e755-44d4-9ed9-e7f31f986702\")>,\n",
       " <selenium.webdriver.remote.webelement.WebElement (session=\"12b87f1e2426a47cb9bb354ce905738c\", element=\"34b73d10-3e86-4a52-bc4c-9007f61d1c8f\")>,\n",
       " <selenium.webdriver.remote.webelement.WebElement (session=\"12b87f1e2426a47cb9bb354ce905738c\", element=\"14c74eae-bd4c-4858-ba6f-7988c0a3a82d\")>,\n",
       " <selenium.webdriver.remote.webelement.WebElement (session=\"12b87f1e2426a47cb9bb354ce905738c\", element=\"23d529af-b661-4607-b6ef-67040ada5871\")>,\n",
       " <selenium.webdriver.remote.webelement.WebElement (session=\"12b87f1e2426a47cb9bb354ce905738c\", element=\"c7674846-d240-4c6c-9e41-46b69db3899e\")>,\n",
       " <selenium.webdriver.remote.webelement.WebElement (session=\"12b87f1e2426a47cb9bb354ce905738c\", element=\"874d7178-b752-4c9d-b01a-3953dee93c28\")>,\n",
       " <selenium.webdriver.remote.webelement.WebElement (session=\"12b87f1e2426a47cb9bb354ce905738c\", element=\"b597a013-14e8-433a-8b33-7d53a22cc776\")>,\n",
       " <selenium.webdriver.remote.webelement.WebElement (session=\"12b87f1e2426a47cb9bb354ce905738c\", element=\"b48e2ae9-0f00-4717-9fc3-c959511f8ea2\")>,\n",
       " <selenium.webdriver.remote.webelement.WebElement (session=\"12b87f1e2426a47cb9bb354ce905738c\", element=\"354d24b9-6d28-4f9f-b107-8635981799ae\")>,\n",
       " <selenium.webdriver.remote.webelement.WebElement (session=\"12b87f1e2426a47cb9bb354ce905738c\", element=\"40ad8154-fd43-4727-880d-478fdb112e8b\")>,\n",
       " <selenium.webdriver.remote.webelement.WebElement (session=\"12b87f1e2426a47cb9bb354ce905738c\", element=\"b44a8964-cce6-42d8-abd0-3c7e87fe8b9b\")>,\n",
       " <selenium.webdriver.remote.webelement.WebElement (session=\"12b87f1e2426a47cb9bb354ce905738c\", element=\"9d42b5d0-7f4a-47a7-94c9-5be6dbca7d14\")>,\n",
       " <selenium.webdriver.remote.webelement.WebElement (session=\"12b87f1e2426a47cb9bb354ce905738c\", element=\"8fb95979-5ca4-4adf-9d68-f67d12c94f71\")>,\n",
       " <selenium.webdriver.remote.webelement.WebElement (session=\"12b87f1e2426a47cb9bb354ce905738c\", element=\"cecb5a23-9fc4-4e0a-a419-9e465e1ef817\")>,\n",
       " <selenium.webdriver.remote.webelement.WebElement (session=\"12b87f1e2426a47cb9bb354ce905738c\", element=\"53db38f2-e244-407b-a1c4-322bcd191c7c\")>,\n",
       " <selenium.webdriver.remote.webelement.WebElement (session=\"12b87f1e2426a47cb9bb354ce905738c\", element=\"c70a01c4-1256-4129-9c8d-77f4fa904222\")>,\n",
       " <selenium.webdriver.remote.webelement.WebElement (session=\"12b87f1e2426a47cb9bb354ce905738c\", element=\"aa530fc4-bad1-4b43-a0d8-f5297dd79fca\")>,\n",
       " <selenium.webdriver.remote.webelement.WebElement (session=\"12b87f1e2426a47cb9bb354ce905738c\", element=\"0b81c82a-4d49-4763-96aa-49b87a5fa500\")>]"
      ]
     },
     "execution_count": 28,
     "metadata": {},
     "output_type": "execute_result"
    }
   ],
   "source": [
    "# jobName \n",
    "# jobName  is a class=\"ais-Highlight-nonHighlighted\"\n",
    "jobName=driver.find_elements_by_css_selector('.sc-1kkiv1h-9.sc-7dlxn3-4.ivyJep.iXGQr')\n",
    "jobName"
   ]
  },
  {
   "cell_type": "code",
   "execution_count": 29,
   "id": "9c896096",
   "metadata": {},
   "outputs": [
    {
     "data": {
      "text/plain": [
       "['Data Scientist - H/F',\n",
       " 'Data Scientist',\n",
       " 'Data Scientist - H/F',\n",
       " 'Data Scientist - Stage - Pretto',\n",
       " 'Data Scientist - Geo',\n",
       " 'Data Scientist - France',\n",
       " 'Data Scientist, Danish speaking - Northern Europe',\n",
       " 'Data Scientist - Documents (End-of-studies Internship)',\n",
       " 'Data Scientist (End-of-studies Internship)',\n",
       " 'Data Scientist (F/H)',\n",
       " 'Data Scientist (NLP)',\n",
       " 'Data Scientist (Confirmé.e) (H/F/X)',\n",
       " 'Data Scientist Senior H/F',\n",
       " 'Data Scientist (F/H)',\n",
       " 'Data Scientist Jeune Docteur (F/H)',\n",
       " 'Data Scientist Intern - Stage IA',\n",
       " 'Data Scientist Junior - alternance H/F',\n",
       " 'Data Scientist',\n",
       " 'Data Scientist H/F Alternance ou Stage',\n",
       " 'Data Scientist',\n",
       " 'DATA SCIENTIST F/H',\n",
       " 'Data Scientist H/F',\n",
       " 'Data Scientist Unsupervised Learning',\n",
       " 'Data scientist',\n",
       " 'Data Scientist, dominante analyse et data visualisation',\n",
       " 'Data Scientist Senior H/F - Yves Rocher',\n",
       " 'Data Scientist Confirmé',\n",
       " 'Data Scientist Senior App',\n",
       " 'Data Scientist',\n",
       " 'Data scientist – Jeune docteur - Projet SimAI (H/F) - CDI']"
      ]
     },
     "execution_count": 29,
     "metadata": {},
     "output_type": "execute_result"
    }
   ],
   "source": [
    "# create a list with SRC (HTML path) of each element of the previous list\n",
    "# we use  list comprehension method here \n",
    "myListjobName = [el.text for el in jobName]\n",
    "myListjobName"
   ]
  },
  {
   "cell_type": "code",
   "execution_count": 30,
   "id": "7172f342",
   "metadata": {},
   "outputs": [
    {
     "data": {
      "text/html": [
       "<div>\n",
       "<style scoped>\n",
       "    .dataframe tbody tr th:only-of-type {\n",
       "        vertical-align: middle;\n",
       "    }\n",
       "\n",
       "    .dataframe tbody tr th {\n",
       "        vertical-align: top;\n",
       "    }\n",
       "\n",
       "    .dataframe thead th {\n",
       "        text-align: right;\n",
       "    }\n",
       "</style>\n",
       "<table border=\"1\" class=\"dataframe\">\n",
       "  <thead>\n",
       "    <tr style=\"text-align: right;\">\n",
       "      <th></th>\n",
       "      <th>Job name</th>\n",
       "    </tr>\n",
       "  </thead>\n",
       "  <tbody>\n",
       "    <tr>\n",
       "      <th>0</th>\n",
       "      <td>Data Scientist - H/F</td>\n",
       "    </tr>\n",
       "    <tr>\n",
       "      <th>1</th>\n",
       "      <td>Data Scientist</td>\n",
       "    </tr>\n",
       "    <tr>\n",
       "      <th>2</th>\n",
       "      <td>Data Scientist - H/F</td>\n",
       "    </tr>\n",
       "    <tr>\n",
       "      <th>3</th>\n",
       "      <td>Data Scientist - Stage - Pretto</td>\n",
       "    </tr>\n",
       "    <tr>\n",
       "      <th>4</th>\n",
       "      <td>Data Scientist - Geo</td>\n",
       "    </tr>\n",
       "    <tr>\n",
       "      <th>5</th>\n",
       "      <td>Data Scientist - France</td>\n",
       "    </tr>\n",
       "    <tr>\n",
       "      <th>6</th>\n",
       "      <td>Data Scientist, Danish speaking - Northern Europe</td>\n",
       "    </tr>\n",
       "    <tr>\n",
       "      <th>7</th>\n",
       "      <td>Data Scientist - Documents (End-of-studies Int...</td>\n",
       "    </tr>\n",
       "    <tr>\n",
       "      <th>8</th>\n",
       "      <td>Data Scientist (End-of-studies Internship)</td>\n",
       "    </tr>\n",
       "    <tr>\n",
       "      <th>9</th>\n",
       "      <td>Data Scientist (F/H)</td>\n",
       "    </tr>\n",
       "    <tr>\n",
       "      <th>10</th>\n",
       "      <td>Data Scientist (NLP)</td>\n",
       "    </tr>\n",
       "    <tr>\n",
       "      <th>11</th>\n",
       "      <td>Data Scientist (Confirmé.e) (H/F/X)</td>\n",
       "    </tr>\n",
       "    <tr>\n",
       "      <th>12</th>\n",
       "      <td>Data Scientist Senior H/F</td>\n",
       "    </tr>\n",
       "    <tr>\n",
       "      <th>13</th>\n",
       "      <td>Data Scientist (F/H)</td>\n",
       "    </tr>\n",
       "    <tr>\n",
       "      <th>14</th>\n",
       "      <td>Data Scientist Jeune Docteur (F/H)</td>\n",
       "    </tr>\n",
       "    <tr>\n",
       "      <th>15</th>\n",
       "      <td>Data Scientist Intern - Stage IA</td>\n",
       "    </tr>\n",
       "    <tr>\n",
       "      <th>16</th>\n",
       "      <td>Data Scientist Junior - alternance H/F</td>\n",
       "    </tr>\n",
       "    <tr>\n",
       "      <th>17</th>\n",
       "      <td>Data Scientist</td>\n",
       "    </tr>\n",
       "    <tr>\n",
       "      <th>18</th>\n",
       "      <td>Data Scientist H/F Alternance ou Stage</td>\n",
       "    </tr>\n",
       "    <tr>\n",
       "      <th>19</th>\n",
       "      <td>Data Scientist</td>\n",
       "    </tr>\n",
       "    <tr>\n",
       "      <th>20</th>\n",
       "      <td>DATA SCIENTIST F/H</td>\n",
       "    </tr>\n",
       "    <tr>\n",
       "      <th>21</th>\n",
       "      <td>Data Scientist H/F</td>\n",
       "    </tr>\n",
       "    <tr>\n",
       "      <th>22</th>\n",
       "      <td>Data Scientist Unsupervised Learning</td>\n",
       "    </tr>\n",
       "    <tr>\n",
       "      <th>23</th>\n",
       "      <td>Data scientist</td>\n",
       "    </tr>\n",
       "    <tr>\n",
       "      <th>24</th>\n",
       "      <td>Data Scientist, dominante analyse et data visu...</td>\n",
       "    </tr>\n",
       "    <tr>\n",
       "      <th>25</th>\n",
       "      <td>Data Scientist Senior H/F - Yves Rocher</td>\n",
       "    </tr>\n",
       "    <tr>\n",
       "      <th>26</th>\n",
       "      <td>Data Scientist Confirmé</td>\n",
       "    </tr>\n",
       "    <tr>\n",
       "      <th>27</th>\n",
       "      <td>Data Scientist Senior App</td>\n",
       "    </tr>\n",
       "    <tr>\n",
       "      <th>28</th>\n",
       "      <td>Data Scientist</td>\n",
       "    </tr>\n",
       "    <tr>\n",
       "      <th>29</th>\n",
       "      <td>Data scientist – Jeune docteur - Projet SimAI ...</td>\n",
       "    </tr>\n",
       "  </tbody>\n",
       "</table>\n",
       "</div>"
      ],
      "text/plain": [
       "                                             Job name\n",
       "0                                Data Scientist - H/F\n",
       "1                                      Data Scientist\n",
       "2                                Data Scientist - H/F\n",
       "3                     Data Scientist - Stage - Pretto\n",
       "4                                Data Scientist - Geo\n",
       "5                             Data Scientist - France\n",
       "6   Data Scientist, Danish speaking - Northern Europe\n",
       "7   Data Scientist - Documents (End-of-studies Int...\n",
       "8          Data Scientist (End-of-studies Internship)\n",
       "9                                Data Scientist (F/H)\n",
       "10                               Data Scientist (NLP)\n",
       "11                Data Scientist (Confirmé.e) (H/F/X)\n",
       "12                          Data Scientist Senior H/F\n",
       "13                               Data Scientist (F/H)\n",
       "14                 Data Scientist Jeune Docteur (F/H)\n",
       "15                   Data Scientist Intern - Stage IA\n",
       "16             Data Scientist Junior - alternance H/F\n",
       "17                                     Data Scientist\n",
       "18             Data Scientist H/F Alternance ou Stage\n",
       "19                                     Data Scientist\n",
       "20                                 DATA SCIENTIST F/H\n",
       "21                                 Data Scientist H/F\n",
       "22               Data Scientist Unsupervised Learning\n",
       "23                                     Data scientist\n",
       "24  Data Scientist, dominante analyse et data visu...\n",
       "25            Data Scientist Senior H/F - Yves Rocher\n",
       "26                            Data Scientist Confirmé\n",
       "27                          Data Scientist Senior App\n",
       "28                                     Data Scientist\n",
       "29  Data scientist – Jeune docteur - Projet SimAI ..."
      ]
     },
     "execution_count": 30,
     "metadata": {},
     "output_type": "execute_result"
    }
   ],
   "source": [
    "ListjobNameDF = pd.DataFrame({'Job name': myListjobName})\n",
    "ListjobNameDF"
   ]
  },
  {
   "cell_type": "code",
   "execution_count": 31,
   "id": "d816f57a",
   "metadata": {},
   "outputs": [],
   "source": [
    "ListjobNameDF.to_csv (r'C:\\Users\\JORDAN\\Documents\\DSTI\\web-scrapping-job\\ListjobNameDF.csv', index = False, header=True)"
   ]
  },
  {
   "cell_type": "code",
   "execution_count": 49,
   "id": "e2bcc5a6",
   "metadata": {},
   "outputs": [
    {
     "data": {
      "text/plain": [
       "['CDI',\n",
       " 'CDI',\n",
       " 'CDI',\n",
       " 'Stage',\n",
       " 'CDI',\n",
       " 'CDI',\n",
       " 'CDI',\n",
       " 'Stage',\n",
       " 'Stage',\n",
       " 'CDI',\n",
       " 'CDI',\n",
       " 'CDI',\n",
       " 'CDI',\n",
       " 'CDI',\n",
       " 'CDI',\n",
       " 'Stage',\n",
       " 'Alternance',\n",
       " 'CDI',\n",
       " 'Alternance',\n",
       " 'Stage',\n",
       " 'CDI',\n",
       " 'CDI',\n",
       " 'CDI',\n",
       " 'CDI',\n",
       " 'Stage',\n",
       " 'CDI',\n",
       " 'CDI',\n",
       " 'CDI',\n",
       " 'Alternance',\n",
       " 'CDI']"
      ]
     },
     "execution_count": 49,
     "metadata": {},
     "output_type": "execute_result"
    }
   ],
   "source": [
    "# ContractType \n",
    "# ContractType  is a class=\"ais-Highlight-nonHighlighted\"\n",
    "# ContractType=driver.find_elements_by_css_selector('.sc-1qc42fc-2.bzTNsD')\n",
    "# ContractType\n",
    "\n",
    "job_type = driver.find_elements_by_css_selector('.sc-1qc42fc-4.dLcIHx')\n",
    "list_job_type = [i.find_elements_by_tag_name(\"span\")[1].find_element_by_tag_name(\"span\").text for i in job_type]\n",
    "list_job_type\n"
   ]
  },
  {
   "cell_type": "code",
   "execution_count": 50,
   "id": "7bf3bb91",
   "metadata": {},
   "outputs": [
    {
     "data": {
      "text/html": [
       "<div>\n",
       "<style scoped>\n",
       "    .dataframe tbody tr th:only-of-type {\n",
       "        vertical-align: middle;\n",
       "    }\n",
       "\n",
       "    .dataframe tbody tr th {\n",
       "        vertical-align: top;\n",
       "    }\n",
       "\n",
       "    .dataframe thead th {\n",
       "        text-align: right;\n",
       "    }\n",
       "</style>\n",
       "<table border=\"1\" class=\"dataframe\">\n",
       "  <thead>\n",
       "    <tr style=\"text-align: right;\">\n",
       "      <th></th>\n",
       "      <th>contract type</th>\n",
       "    </tr>\n",
       "  </thead>\n",
       "  <tbody>\n",
       "    <tr>\n",
       "      <th>0</th>\n",
       "      <td>CDI</td>\n",
       "    </tr>\n",
       "    <tr>\n",
       "      <th>1</th>\n",
       "      <td>CDI</td>\n",
       "    </tr>\n",
       "    <tr>\n",
       "      <th>2</th>\n",
       "      <td>CDI</td>\n",
       "    </tr>\n",
       "    <tr>\n",
       "      <th>3</th>\n",
       "      <td>Stage</td>\n",
       "    </tr>\n",
       "    <tr>\n",
       "      <th>4</th>\n",
       "      <td>CDI</td>\n",
       "    </tr>\n",
       "    <tr>\n",
       "      <th>5</th>\n",
       "      <td>CDI</td>\n",
       "    </tr>\n",
       "    <tr>\n",
       "      <th>6</th>\n",
       "      <td>CDI</td>\n",
       "    </tr>\n",
       "    <tr>\n",
       "      <th>7</th>\n",
       "      <td>Stage</td>\n",
       "    </tr>\n",
       "    <tr>\n",
       "      <th>8</th>\n",
       "      <td>Stage</td>\n",
       "    </tr>\n",
       "    <tr>\n",
       "      <th>9</th>\n",
       "      <td>CDI</td>\n",
       "    </tr>\n",
       "    <tr>\n",
       "      <th>10</th>\n",
       "      <td>CDI</td>\n",
       "    </tr>\n",
       "    <tr>\n",
       "      <th>11</th>\n",
       "      <td>CDI</td>\n",
       "    </tr>\n",
       "    <tr>\n",
       "      <th>12</th>\n",
       "      <td>CDI</td>\n",
       "    </tr>\n",
       "    <tr>\n",
       "      <th>13</th>\n",
       "      <td>CDI</td>\n",
       "    </tr>\n",
       "    <tr>\n",
       "      <th>14</th>\n",
       "      <td>CDI</td>\n",
       "    </tr>\n",
       "    <tr>\n",
       "      <th>15</th>\n",
       "      <td>Stage</td>\n",
       "    </tr>\n",
       "    <tr>\n",
       "      <th>16</th>\n",
       "      <td>Alternance</td>\n",
       "    </tr>\n",
       "    <tr>\n",
       "      <th>17</th>\n",
       "      <td>CDI</td>\n",
       "    </tr>\n",
       "    <tr>\n",
       "      <th>18</th>\n",
       "      <td>Alternance</td>\n",
       "    </tr>\n",
       "    <tr>\n",
       "      <th>19</th>\n",
       "      <td>Stage</td>\n",
       "    </tr>\n",
       "    <tr>\n",
       "      <th>20</th>\n",
       "      <td>CDI</td>\n",
       "    </tr>\n",
       "    <tr>\n",
       "      <th>21</th>\n",
       "      <td>CDI</td>\n",
       "    </tr>\n",
       "    <tr>\n",
       "      <th>22</th>\n",
       "      <td>CDI</td>\n",
       "    </tr>\n",
       "    <tr>\n",
       "      <th>23</th>\n",
       "      <td>CDI</td>\n",
       "    </tr>\n",
       "    <tr>\n",
       "      <th>24</th>\n",
       "      <td>Stage</td>\n",
       "    </tr>\n",
       "    <tr>\n",
       "      <th>25</th>\n",
       "      <td>CDI</td>\n",
       "    </tr>\n",
       "    <tr>\n",
       "      <th>26</th>\n",
       "      <td>CDI</td>\n",
       "    </tr>\n",
       "    <tr>\n",
       "      <th>27</th>\n",
       "      <td>CDI</td>\n",
       "    </tr>\n",
       "    <tr>\n",
       "      <th>28</th>\n",
       "      <td>Alternance</td>\n",
       "    </tr>\n",
       "    <tr>\n",
       "      <th>29</th>\n",
       "      <td>CDI</td>\n",
       "    </tr>\n",
       "  </tbody>\n",
       "</table>\n",
       "</div>"
      ],
      "text/plain": [
       "   contract type\n",
       "0            CDI\n",
       "1            CDI\n",
       "2            CDI\n",
       "3          Stage\n",
       "4            CDI\n",
       "5            CDI\n",
       "6            CDI\n",
       "7          Stage\n",
       "8          Stage\n",
       "9            CDI\n",
       "10           CDI\n",
       "11           CDI\n",
       "12           CDI\n",
       "13           CDI\n",
       "14           CDI\n",
       "15         Stage\n",
       "16    Alternance\n",
       "17           CDI\n",
       "18    Alternance\n",
       "19         Stage\n",
       "20           CDI\n",
       "21           CDI\n",
       "22           CDI\n",
       "23           CDI\n",
       "24         Stage\n",
       "25           CDI\n",
       "26           CDI\n",
       "27           CDI\n",
       "28    Alternance\n",
       "29           CDI"
      ]
     },
     "execution_count": 50,
     "metadata": {},
     "output_type": "execute_result"
    }
   ],
   "source": [
    "list_job_typeDF = pd.DataFrame({'contract type': list_job_type})\n",
    "list_job_typeDF"
   ]
  },
  {
   "cell_type": "code",
   "execution_count": 51,
   "id": "86f17aba",
   "metadata": {},
   "outputs": [],
   "source": [
    "list_job_typeDF.to_csv (r'C:\\Users\\JORDAN\\Documents\\DSTI\\web-scrapping-job\\list_job_typeDF.csv', index = False, header=True)"
   ]
  },
  {
   "cell_type": "code",
   "execution_count": 21,
   "id": "019b11c1",
   "metadata": {},
   "outputs": [],
   "source": [
    "# close the browser\n",
    "driver.quit()"
   ]
  }
 ],
 "metadata": {
  "kernelspec": {
   "display_name": "Python 3",
   "language": "python",
   "name": "python3"
  },
  "language_info": {
   "codemirror_mode": {
    "name": "ipython",
    "version": 3
   },
   "file_extension": ".py",
   "mimetype": "text/x-python",
   "name": "python",
   "nbconvert_exporter": "python",
   "pygments_lexer": "ipython3",
   "version": "3.6.13"
  }
 },
 "nbformat": 4,
 "nbformat_minor": 5
}
