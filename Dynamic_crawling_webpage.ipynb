{
 "cells": [
  {
   "cell_type": "markdown",
   "id": "f92432bd",
   "metadata": {},
   "source": [
    "# Install Selenium "
   ]
  },
  {
   "cell_type": "code",
   "execution_count": 1,
   "id": "7d44b824",
   "metadata": {
    "scrolled": true
   },
   "outputs": [
    {
     "name": "stdout",
     "output_type": "stream",
     "text": [
      "Requirement already satisfied: selenium in c:\\users\\jordan\\anaconda3\\envs\\job\\lib\\site-packages (3.141.0)\n",
      "Requirement already satisfied: urllib3 in c:\\users\\jordan\\anaconda3\\envs\\job\\lib\\site-packages (from selenium) (1.26.5)\n",
      "Note: you may need to restart the kernel to use updated packages.\n"
     ]
    }
   ],
   "source": [
    "pip install selenium "
   ]
  },
  {
   "cell_type": "code",
   "execution_count": 2,
   "id": "786af864",
   "metadata": {},
   "outputs": [],
   "source": [
    "from pandas import pandas as pd"
   ]
  },
  {
   "cell_type": "code",
   "execution_count": 3,
   "id": "8b117719",
   "metadata": {},
   "outputs": [],
   "source": [
    "from selenium import webdriver # import webdriver"
   ]
  },
  {
   "cell_type": "code",
   "execution_count": 4,
   "id": "c1f010bc",
   "metadata": {},
   "outputs": [],
   "source": [
    "from selenium.webdriver.common.keys import Keys #KEys"
   ]
  },
  {
   "cell_type": "code",
   "execution_count": 5,
   "id": "handy-partnership",
   "metadata": {},
   "outputs": [],
   "source": [
    "import Dynamic_crawling_script as dc #import the .py script\n"
   ]
  },
  {
   "cell_type": "markdown",
   "id": "magnetic-namibia",
   "metadata": {},
   "source": [
    "### Path Configuration"
   ]
  },
  {
   "cell_type": "code",
   "execution_count": 6,
   "id": "15d0a154",
   "metadata": {
    "scrolled": true
   },
   "outputs": [],
   "source": [
    "from Config import  HOME_FOLDER, DRIVERNAME, DRIVERPATH, DRIVERTYPE"
   ]
  },
  {
   "cell_type": "code",
   "execution_count": 7,
   "id": "d2c7781a",
   "metadata": {},
   "outputs": [],
   "source": [
    "driver = dc.webdriver_creator('Chrome', DRIVERPATH)"
   ]
  },
  {
   "cell_type": "markdown",
   "id": "juvenile-poultry",
   "metadata": {},
   "source": [
    "### URL creation"
   ]
  },
  {
   "cell_type": "code",
   "execution_count": 8,
   "id": "95ef7b5a",
   "metadata": {},
   "outputs": [],
   "source": [
    "# Let's use the function create link using the default value\n",
    "link_de = dc.create_link_v2('data engineer') # execute the function and return an URL which contains the job title and the page \n",
    "# this link is a variable"
   ]
  },
  {
   "cell_type": "code",
   "execution_count": 9,
   "id": "8daab009",
   "metadata": {},
   "outputs": [
    {
     "data": {
      "text/plain": [
       "'https://www.welcometothejungle.com/fr/jobs?query=data%20engineer&page=1'"
      ]
     },
     "execution_count": 9,
     "metadata": {},
     "output_type": "execute_result"
    }
   ],
   "source": [
    "link_de"
   ]
  },
  {
   "cell_type": "code",
   "execution_count": 10,
   "id": "316c3c59",
   "metadata": {},
   "outputs": [
    {
     "data": {
      "text/plain": [
       "'https://www.welcometothejungle.com/fr/jobs?query=data%20engineer&page=2'"
      ]
     },
     "execution_count": 10,
     "metadata": {},
     "output_type": "execute_result"
    }
   ],
   "source": [
    "# Let's use the function create link with our own value\n",
    "link_de_2 = dc.create_link_v2('data engineer', 2) # execute the function and return an URL which contains the job title and the page \n",
    "link_de_2"
   ]
  },
  {
   "cell_type": "code",
   "execution_count": 11,
   "id": "38e3197c",
   "metadata": {},
   "outputs": [
    {
     "data": {
      "text/plain": [
       "'https://www.welcometothejungle.com/fr/jobs?query=data%20scientist&page=1'"
      ]
     },
     "execution_count": 11,
     "metadata": {},
     "output_type": "execute_result"
    }
   ],
   "source": [
    "link_ds = dc.create_link_v2('data scientist')\n",
    "link_ds"
   ]
  },
  {
   "cell_type": "markdown",
   "id": "ordinary-variety",
   "metadata": {},
   "source": [
    "### Opening the URL with Selenium"
   ]
  },
  {
   "cell_type": "code",
   "execution_count": 12,
   "id": "aa428da1",
   "metadata": {},
   "outputs": [],
   "source": [
    "driver.get(link_ds) # open the link with the driver "
   ]
  },
  {
   "cell_type": "code",
   "execution_count": 13,
   "id": "b35e79b2",
   "metadata": {},
   "outputs": [],
   "source": [
    "#Retrieve the html code of the page\n",
    "page_html = driver.page_source"
   ]
  },
  {
   "cell_type": "code",
   "execution_count": 14,
   "id": "938dd074",
   "metadata": {},
   "outputs": [],
   "source": [
    "#Print the html code (if you want)\n",
    "#print(page_html)"
   ]
  },
  {
   "cell_type": "code",
   "execution_count": 15,
   "id": "a1669afa",
   "metadata": {},
   "outputs": [],
   "source": [
    "#Find the button to click to accept the cookies\n",
    "button = driver.find_element_by_id(\"axeptio_btn_acceptAll\")\n",
    "#Click on the button\n",
    "button.click()"
   ]
  },
  {
   "cell_type": "code",
   "execution_count": 16,
   "id": "4f8d9f8c",
   "metadata": {},
   "outputs": [],
   "source": [
    "import time"
   ]
  },
  {
   "cell_type": "code",
   "execution_count": 17,
   "id": "2b469345",
   "metadata": {},
   "outputs": [],
   "source": [
    "#Scroll down throuht the entire Web page\n",
    "elem = driver.find_element_by_tag_name(\"body\")\n",
    "for i in range(151):\n",
    "    elem.send_keys(Keys.ARROW_DOWN)\n",
    "    time.sleep(0.1)"
   ]
  },
  {
   "cell_type": "code",
   "execution_count": 18,
   "id": "rental-software",
   "metadata": {},
   "outputs": [
    {
     "data": {
      "text/plain": [
       "[<selenium.webdriver.remote.webelement.WebElement (session=\"04dab385ccfcc22a433aca417a4b6fa6\", element=\"8b4b5227-4bce-4344-b7bf-5d942447f16c\")>,\n",
       " <selenium.webdriver.remote.webelement.WebElement (session=\"04dab385ccfcc22a433aca417a4b6fa6\", element=\"30718034-79c9-4609-8627-af2454bb39ed\")>,\n",
       " <selenium.webdriver.remote.webelement.WebElement (session=\"04dab385ccfcc22a433aca417a4b6fa6\", element=\"ed22ede5-1805-4711-a2c8-ce140fed667f\")>]"
      ]
     },
     "execution_count": 18,
     "metadata": {},
     "output_type": "execute_result"
    }
   ],
   "source": [
    "#Find logo elements in the webpage\n",
    "#every logo element seem to have the following class name here: sc-1kkiv1h-8 iwJoCg\n",
    "logos = driver.find_elements_by_css_selector('img.sc-1kkiv1h-8.iwJoCg')\n",
    "logos"
   ]
  },
  {
   "cell_type": "code",
   "execution_count": 19,
   "id": "f5071c34",
   "metadata": {
    "scrolled": true
   },
   "outputs": [
    {
     "data": {
      "text/plain": [
       "['https://cdn-images.welcometothejungle.com/uqXunUrJ32s5y5NB99ayO7KkRNMlc5BPigkJAW5zp3E/w:200/q:85/czM6Ly93dHRqLXBy/b2R1Y3Rpb24vdXBs/b2Fkcy9vcmdhbml6/YXRpb24vbG9nby84/MzU1LzE1ODk5OC80/YmEzMjkxMy04ODMw/LTQ2NzEtYjlmZi0z/OTM4NWQyMTExNjAu/cG5n',\n",
       " 'https://cdn-images.welcometothejungle.com/N8jwRetyvQv_zPtfFVb9gs2iFVZ0FU5DI71zeOzsnWE/w:200/q:85/czM6Ly93dHRqLXBy/b2R1Y3Rpb24vdXBs/b2Fkcy9vcmdhbml6/YXRpb24vbG9nby84/NTY0LzE0ODAwNy9h/ZGIyZTc0NC0yMzAx/LTQ3NzEtYTVkOC1j/ZDJjM2E0ZmY5NTYu/cG5n',\n",
       " 'https://cdn-images.welcometothejungle.com/N8jwRetyvQv_zPtfFVb9gs2iFVZ0FU5DI71zeOzsnWE/w:200/q:85/czM6Ly93dHRqLXBy/b2R1Y3Rpb24vdXBs/b2Fkcy9vcmdhbml6/YXRpb24vbG9nby84/NTY0LzE0ODAwNy9h/ZGIyZTc0NC0yMzAx/LTQ3NzEtYTVkOC1j/ZDJjM2E0ZmY5NTYu/cG5n']"
      ]
     },
     "execution_count": 19,
     "metadata": {},
     "output_type": "execute_result"
    }
   ],
   "source": [
    "# create a list with SRC (HTML path) of each element of the previous list\n",
    "# we use  list comprehension method here \n",
    "myList = [el.get_attribute(\"src\") for el in logos]\n",
    "myList"
   ]
  },
  {
   "cell_type": "code",
   "execution_count": 20,
   "id": "3a33cfee",
   "metadata": {},
   "outputs": [
    {
     "data": {
      "text/html": [
       "<div>\n",
       "<style scoped>\n",
       "    .dataframe tbody tr th:only-of-type {\n",
       "        vertical-align: middle;\n",
       "    }\n",
       "\n",
       "    .dataframe tbody tr th {\n",
       "        vertical-align: top;\n",
       "    }\n",
       "\n",
       "    .dataframe thead th {\n",
       "        text-align: right;\n",
       "    }\n",
       "</style>\n",
       "<table border=\"1\" class=\"dataframe\">\n",
       "  <thead>\n",
       "    <tr style=\"text-align: right;\">\n",
       "      <th></th>\n",
       "      <th>logo</th>\n",
       "    </tr>\n",
       "  </thead>\n",
       "  <tbody>\n",
       "    <tr>\n",
       "      <th>0</th>\n",
       "      <td>https://cdn-images.welcometothejungle.com/uqXu...</td>\n",
       "    </tr>\n",
       "    <tr>\n",
       "      <th>1</th>\n",
       "      <td>https://cdn-images.welcometothejungle.com/N8jw...</td>\n",
       "    </tr>\n",
       "    <tr>\n",
       "      <th>2</th>\n",
       "      <td>https://cdn-images.welcometothejungle.com/N8jw...</td>\n",
       "    </tr>\n",
       "  </tbody>\n",
       "</table>\n",
       "</div>"
      ],
      "text/plain": [
       "                                                logo\n",
       "0  https://cdn-images.welcometothejungle.com/uqXu...\n",
       "1  https://cdn-images.welcometothejungle.com/N8jw...\n",
       "2  https://cdn-images.welcometothejungle.com/N8jw..."
      ]
     },
     "execution_count": 20,
     "metadata": {},
     "output_type": "execute_result"
    }
   ],
   "source": [
    "logoDF = pd.DataFrame({'logo': myList})\n",
    "logoDF"
   ]
  },
  {
   "cell_type": "code",
   "execution_count": 21,
   "id": "6ae0fe35",
   "metadata": {},
   "outputs": [],
   "source": [
    "logoDF.to_csv (r'C:\\Users\\JORDAN\\Documents\\DSTI\\web-scrapping-job\\logoDF.csv', index = False, header=True)"
   ]
  },
  {
   "cell_type": "code",
   "execution_count": 22,
   "id": "1f560fbf",
   "metadata": {},
   "outputs": [
    {
     "data": {
      "text/plain": [
       "[<selenium.webdriver.remote.webelement.WebElement (session=\"04dab385ccfcc22a433aca417a4b6fa6\", element=\"02fa1c87-d243-4be5-ab23-a8b23ce9046d\")>,\n",
       " <selenium.webdriver.remote.webelement.WebElement (session=\"04dab385ccfcc22a433aca417a4b6fa6\", element=\"c0a9ae18-8323-43cd-bbf6-6ab7f6ec82fc\")>,\n",
       " <selenium.webdriver.remote.webelement.WebElement (session=\"04dab385ccfcc22a433aca417a4b6fa6\", element=\"16bcf2a8-9e2a-4260-854d-69dad22c9cad\")>,\n",
       " <selenium.webdriver.remote.webelement.WebElement (session=\"04dab385ccfcc22a433aca417a4b6fa6\", element=\"bdd87aca-0e03-4bed-acb5-20b135b04320\")>,\n",
       " <selenium.webdriver.remote.webelement.WebElement (session=\"04dab385ccfcc22a433aca417a4b6fa6\", element=\"745f3d5c-472c-456c-8a41-68a2def071b7\")>,\n",
       " <selenium.webdriver.remote.webelement.WebElement (session=\"04dab385ccfcc22a433aca417a4b6fa6\", element=\"07bcc0d4-eafc-4921-a7a7-bf8eb36cf395\")>,\n",
       " <selenium.webdriver.remote.webelement.WebElement (session=\"04dab385ccfcc22a433aca417a4b6fa6\", element=\"45445b8d-7dd4-4234-8ab9-43a2574156fd\")>,\n",
       " <selenium.webdriver.remote.webelement.WebElement (session=\"04dab385ccfcc22a433aca417a4b6fa6\", element=\"214e86b2-ee0e-409a-bcc5-2ccfce8f74c0\")>,\n",
       " <selenium.webdriver.remote.webelement.WebElement (session=\"04dab385ccfcc22a433aca417a4b6fa6\", element=\"61cf718c-a901-40e2-8c61-23d2e52cda74\")>,\n",
       " <selenium.webdriver.remote.webelement.WebElement (session=\"04dab385ccfcc22a433aca417a4b6fa6\", element=\"a99fe7cf-9cdf-4a99-9bf6-6a7d41a6e6c1\")>,\n",
       " <selenium.webdriver.remote.webelement.WebElement (session=\"04dab385ccfcc22a433aca417a4b6fa6\", element=\"3f8023ce-ab38-42c2-aca1-2569af2ea95e\")>,\n",
       " <selenium.webdriver.remote.webelement.WebElement (session=\"04dab385ccfcc22a433aca417a4b6fa6\", element=\"9f39373b-e013-441a-812b-e3e53919f506\")>,\n",
       " <selenium.webdriver.remote.webelement.WebElement (session=\"04dab385ccfcc22a433aca417a4b6fa6\", element=\"7d4ea0fb-cf72-4ad6-ac5f-b6375e4af3aa\")>,\n",
       " <selenium.webdriver.remote.webelement.WebElement (session=\"04dab385ccfcc22a433aca417a4b6fa6\", element=\"839de008-4995-410c-9744-4e48c5fab7f2\")>,\n",
       " <selenium.webdriver.remote.webelement.WebElement (session=\"04dab385ccfcc22a433aca417a4b6fa6\", element=\"cc20bcb2-73d0-4e61-b6ae-bb1b7dca5cff\")>,\n",
       " <selenium.webdriver.remote.webelement.WebElement (session=\"04dab385ccfcc22a433aca417a4b6fa6\", element=\"ac6b43ac-79ac-4c74-b9d8-1079b1f58be4\")>,\n",
       " <selenium.webdriver.remote.webelement.WebElement (session=\"04dab385ccfcc22a433aca417a4b6fa6\", element=\"e942519c-3fc4-49b3-ba28-bd96197e9183\")>,\n",
       " <selenium.webdriver.remote.webelement.WebElement (session=\"04dab385ccfcc22a433aca417a4b6fa6\", element=\"8940d1f4-f069-4ab6-8afe-32fa1227bf9e\")>,\n",
       " <selenium.webdriver.remote.webelement.WebElement (session=\"04dab385ccfcc22a433aca417a4b6fa6\", element=\"6fe5ed0c-cf0d-4318-9d42-7a259f5fbe17\")>,\n",
       " <selenium.webdriver.remote.webelement.WebElement (session=\"04dab385ccfcc22a433aca417a4b6fa6\", element=\"43166745-8e8c-4624-a4ec-39906de401de\")>,\n",
       " <selenium.webdriver.remote.webelement.WebElement (session=\"04dab385ccfcc22a433aca417a4b6fa6\", element=\"ea493686-7f11-4510-9ee2-6bca7c72c124\")>,\n",
       " <selenium.webdriver.remote.webelement.WebElement (session=\"04dab385ccfcc22a433aca417a4b6fa6\", element=\"b04af40e-8701-481e-bdff-f00ec9675a39\")>,\n",
       " <selenium.webdriver.remote.webelement.WebElement (session=\"04dab385ccfcc22a433aca417a4b6fa6\", element=\"aa1ee855-5836-4214-b2ae-df9bd621690d\")>,\n",
       " <selenium.webdriver.remote.webelement.WebElement (session=\"04dab385ccfcc22a433aca417a4b6fa6\", element=\"3b502f4a-349d-4be5-9e2f-58f77d8514a2\")>,\n",
       " <selenium.webdriver.remote.webelement.WebElement (session=\"04dab385ccfcc22a433aca417a4b6fa6\", element=\"c8c15674-8c49-45e7-8ce0-b07055c1b791\")>,\n",
       " <selenium.webdriver.remote.webelement.WebElement (session=\"04dab385ccfcc22a433aca417a4b6fa6\", element=\"da080d93-0b01-4faf-9ab3-d5701ea4cfd2\")>,\n",
       " <selenium.webdriver.remote.webelement.WebElement (session=\"04dab385ccfcc22a433aca417a4b6fa6\", element=\"98c5fd38-3d1f-42dc-a676-26c7a1fbad9a\")>,\n",
       " <selenium.webdriver.remote.webelement.WebElement (session=\"04dab385ccfcc22a433aca417a4b6fa6\", element=\"fbeebbe3-a7ee-4259-b36d-a2b07a0f06b7\")>,\n",
       " <selenium.webdriver.remote.webelement.WebElement (session=\"04dab385ccfcc22a433aca417a4b6fa6\", element=\"aa71cfb2-c952-486e-853d-6f6f8c750ac5\")>,\n",
       " <selenium.webdriver.remote.webelement.WebElement (session=\"04dab385ccfcc22a433aca417a4b6fa6\", element=\"cecb2b95-bf3c-4631-a70c-0f8ddda471a7\")>]"
      ]
     },
     "execution_count": 22,
     "metadata": {},
     "output_type": "execute_result"
    }
   ],
   "source": [
    "# company name\n",
    "# compan_name  is a class=\"ais-Highlight-nonHighlighted\"\n",
    "companyName=driver.find_elements_by_css_selector('.ais-Highlight-nonHighlighted')\n",
    "companyName"
   ]
  },
  {
   "cell_type": "code",
   "execution_count": 23,
   "id": "8b00191c",
   "metadata": {},
   "outputs": [
    {
     "data": {
      "text/plain": [
       "['Margo',\n",
       " 'Botify',\n",
       " 'Datascientest',\n",
       " 'Virtuo',\n",
       " 'namR',\n",
       " 'namR',\n",
       " 'DialOnce',\n",
       " 'Deepki',\n",
       " 'Pretto',\n",
       " 'FLEXPER',\n",
       " 'FLEXPER',\n",
       " 'Vizzit',\n",
       " 'QuantCube Technology',\n",
       " 'Vianova',\n",
       " 'Shift Technology',\n",
       " 'Shift Technology',\n",
       " 'Shift Technology',\n",
       " 'Shift Technology',\n",
       " 'Shift Technology',\n",
       " 'Shift Technology',\n",
       " 'LittleBigCode',\n",
       " 'Dataleon',\n",
       " 'relevanC',\n",
       " 'Sanofi',\n",
       " 'Oney',\n",
       " 'Hyperlex',\n",
       " 'Lepermislibre',\n",
       " 'Thales',\n",
       " 'Dataiku',\n",
       " 'Mindee']"
      ]
     },
     "execution_count": 23,
     "metadata": {},
     "output_type": "execute_result"
    }
   ],
   "source": [
    "# create a list with SRC (HTML path) of each element of the previous list\n",
    "# we use  list comprehension method here \n",
    "myListCompany = [el.text for el in companyName]\n",
    "myListCompany"
   ]
  },
  {
   "cell_type": "code",
   "execution_count": 24,
   "id": "74b84a67",
   "metadata": {},
   "outputs": [
    {
     "data": {
      "text/html": [
       "<div>\n",
       "<style scoped>\n",
       "    .dataframe tbody tr th:only-of-type {\n",
       "        vertical-align: middle;\n",
       "    }\n",
       "\n",
       "    .dataframe tbody tr th {\n",
       "        vertical-align: top;\n",
       "    }\n",
       "\n",
       "    .dataframe thead th {\n",
       "        text-align: right;\n",
       "    }\n",
       "</style>\n",
       "<table border=\"1\" class=\"dataframe\">\n",
       "  <thead>\n",
       "    <tr style=\"text-align: right;\">\n",
       "      <th></th>\n",
       "      <th>company name</th>\n",
       "    </tr>\n",
       "  </thead>\n",
       "  <tbody>\n",
       "    <tr>\n",
       "      <th>0</th>\n",
       "      <td>Margo</td>\n",
       "    </tr>\n",
       "    <tr>\n",
       "      <th>1</th>\n",
       "      <td>Botify</td>\n",
       "    </tr>\n",
       "    <tr>\n",
       "      <th>2</th>\n",
       "      <td>Datascientest</td>\n",
       "    </tr>\n",
       "    <tr>\n",
       "      <th>3</th>\n",
       "      <td>Virtuo</td>\n",
       "    </tr>\n",
       "    <tr>\n",
       "      <th>4</th>\n",
       "      <td>namR</td>\n",
       "    </tr>\n",
       "    <tr>\n",
       "      <th>5</th>\n",
       "      <td>namR</td>\n",
       "    </tr>\n",
       "    <tr>\n",
       "      <th>6</th>\n",
       "      <td>DialOnce</td>\n",
       "    </tr>\n",
       "    <tr>\n",
       "      <th>7</th>\n",
       "      <td>Deepki</td>\n",
       "    </tr>\n",
       "    <tr>\n",
       "      <th>8</th>\n",
       "      <td>Pretto</td>\n",
       "    </tr>\n",
       "    <tr>\n",
       "      <th>9</th>\n",
       "      <td>FLEXPER</td>\n",
       "    </tr>\n",
       "    <tr>\n",
       "      <th>10</th>\n",
       "      <td>FLEXPER</td>\n",
       "    </tr>\n",
       "    <tr>\n",
       "      <th>11</th>\n",
       "      <td>Vizzit</td>\n",
       "    </tr>\n",
       "    <tr>\n",
       "      <th>12</th>\n",
       "      <td>QuantCube Technology</td>\n",
       "    </tr>\n",
       "    <tr>\n",
       "      <th>13</th>\n",
       "      <td>Vianova</td>\n",
       "    </tr>\n",
       "    <tr>\n",
       "      <th>14</th>\n",
       "      <td>Shift Technology</td>\n",
       "    </tr>\n",
       "    <tr>\n",
       "      <th>15</th>\n",
       "      <td>Shift Technology</td>\n",
       "    </tr>\n",
       "    <tr>\n",
       "      <th>16</th>\n",
       "      <td>Shift Technology</td>\n",
       "    </tr>\n",
       "    <tr>\n",
       "      <th>17</th>\n",
       "      <td>Shift Technology</td>\n",
       "    </tr>\n",
       "    <tr>\n",
       "      <th>18</th>\n",
       "      <td>Shift Technology</td>\n",
       "    </tr>\n",
       "    <tr>\n",
       "      <th>19</th>\n",
       "      <td>Shift Technology</td>\n",
       "    </tr>\n",
       "    <tr>\n",
       "      <th>20</th>\n",
       "      <td>LittleBigCode</td>\n",
       "    </tr>\n",
       "    <tr>\n",
       "      <th>21</th>\n",
       "      <td>Dataleon</td>\n",
       "    </tr>\n",
       "    <tr>\n",
       "      <th>22</th>\n",
       "      <td>relevanC</td>\n",
       "    </tr>\n",
       "    <tr>\n",
       "      <th>23</th>\n",
       "      <td>Sanofi</td>\n",
       "    </tr>\n",
       "    <tr>\n",
       "      <th>24</th>\n",
       "      <td>Oney</td>\n",
       "    </tr>\n",
       "    <tr>\n",
       "      <th>25</th>\n",
       "      <td>Hyperlex</td>\n",
       "    </tr>\n",
       "    <tr>\n",
       "      <th>26</th>\n",
       "      <td>Lepermislibre</td>\n",
       "    </tr>\n",
       "    <tr>\n",
       "      <th>27</th>\n",
       "      <td>Thales</td>\n",
       "    </tr>\n",
       "    <tr>\n",
       "      <th>28</th>\n",
       "      <td>Dataiku</td>\n",
       "    </tr>\n",
       "    <tr>\n",
       "      <th>29</th>\n",
       "      <td>Mindee</td>\n",
       "    </tr>\n",
       "  </tbody>\n",
       "</table>\n",
       "</div>"
      ],
      "text/plain": [
       "            company name\n",
       "0                  Margo\n",
       "1                 Botify\n",
       "2          Datascientest\n",
       "3                 Virtuo\n",
       "4                   namR\n",
       "5                   namR\n",
       "6               DialOnce\n",
       "7                 Deepki\n",
       "8                 Pretto\n",
       "9                FLEXPER\n",
       "10               FLEXPER\n",
       "11                Vizzit\n",
       "12  QuantCube Technology\n",
       "13               Vianova\n",
       "14      Shift Technology\n",
       "15      Shift Technology\n",
       "16      Shift Technology\n",
       "17      Shift Technology\n",
       "18      Shift Technology\n",
       "19      Shift Technology\n",
       "20         LittleBigCode\n",
       "21              Dataleon\n",
       "22              relevanC\n",
       "23                Sanofi\n",
       "24                  Oney\n",
       "25              Hyperlex\n",
       "26         Lepermislibre\n",
       "27                Thales\n",
       "28               Dataiku\n",
       "29                Mindee"
      ]
     },
     "execution_count": 24,
     "metadata": {},
     "output_type": "execute_result"
    }
   ],
   "source": [
    "companyNameDF = pd.DataFrame({'company name': myListCompany})\n",
    "companyNameDF"
   ]
  },
  {
   "cell_type": "code",
   "execution_count": 25,
   "id": "9d15d56e",
   "metadata": {},
   "outputs": [],
   "source": [
    "companyNameDF.to_csv (r'C:\\Users\\JORDAN\\Documents\\DSTI\\web-scrapping-job\\companyNameDF.csv', index = False, header=True)"
   ]
  },
  {
   "cell_type": "code",
   "execution_count": 26,
   "id": "27e518e7",
   "metadata": {},
   "outputs": [
    {
     "data": {
      "text/plain": [
       "[<selenium.webdriver.remote.webelement.WebElement (session=\"04dab385ccfcc22a433aca417a4b6fa6\", element=\"47d61298-3c41-4cbe-902f-fb1303975574\")>,\n",
       " <selenium.webdriver.remote.webelement.WebElement (session=\"04dab385ccfcc22a433aca417a4b6fa6\", element=\"477b10ba-04b0-4f24-9ca3-a86477265f8d\")>,\n",
       " <selenium.webdriver.remote.webelement.WebElement (session=\"04dab385ccfcc22a433aca417a4b6fa6\", element=\"5af0f685-6e17-4834-aa67-a8bd40522a2f\")>,\n",
       " <selenium.webdriver.remote.webelement.WebElement (session=\"04dab385ccfcc22a433aca417a4b6fa6\", element=\"dec91dbf-f968-4bf4-a9c3-ab9617e5f898\")>,\n",
       " <selenium.webdriver.remote.webelement.WebElement (session=\"04dab385ccfcc22a433aca417a4b6fa6\", element=\"e91be4ff-c7c4-4566-9b84-aad395d1e2ab\")>,\n",
       " <selenium.webdriver.remote.webelement.WebElement (session=\"04dab385ccfcc22a433aca417a4b6fa6\", element=\"3b994488-dba2-4c7c-ad92-1d131adb18c9\")>,\n",
       " <selenium.webdriver.remote.webelement.WebElement (session=\"04dab385ccfcc22a433aca417a4b6fa6\", element=\"f7deb784-5927-4824-9443-a63b3a020c73\")>,\n",
       " <selenium.webdriver.remote.webelement.WebElement (session=\"04dab385ccfcc22a433aca417a4b6fa6\", element=\"8d548e0f-0f77-40d7-9066-ceb014a3b391\")>,\n",
       " <selenium.webdriver.remote.webelement.WebElement (session=\"04dab385ccfcc22a433aca417a4b6fa6\", element=\"6bd6afd4-0a17-4252-ac7b-d68144d267a2\")>,\n",
       " <selenium.webdriver.remote.webelement.WebElement (session=\"04dab385ccfcc22a433aca417a4b6fa6\", element=\"5331dc78-a49b-4c88-a220-a03772459d97\")>,\n",
       " <selenium.webdriver.remote.webelement.WebElement (session=\"04dab385ccfcc22a433aca417a4b6fa6\", element=\"226b9fbe-2d71-4ed2-9b9f-e65f86ada266\")>,\n",
       " <selenium.webdriver.remote.webelement.WebElement (session=\"04dab385ccfcc22a433aca417a4b6fa6\", element=\"6af1a3b0-72b6-4a09-8f24-277fe0d9e449\")>,\n",
       " <selenium.webdriver.remote.webelement.WebElement (session=\"04dab385ccfcc22a433aca417a4b6fa6\", element=\"798f80ba-d7c4-4acc-b436-a25e0afafc50\")>,\n",
       " <selenium.webdriver.remote.webelement.WebElement (session=\"04dab385ccfcc22a433aca417a4b6fa6\", element=\"82f0b7d3-c635-450c-9d8d-caf457ec894e\")>,\n",
       " <selenium.webdriver.remote.webelement.WebElement (session=\"04dab385ccfcc22a433aca417a4b6fa6\", element=\"c21dbfd1-3dca-4f6f-a7b1-b2dc6c3676f7\")>,\n",
       " <selenium.webdriver.remote.webelement.WebElement (session=\"04dab385ccfcc22a433aca417a4b6fa6\", element=\"2c5f7343-385d-41f7-bde0-370467c9cf1e\")>,\n",
       " <selenium.webdriver.remote.webelement.WebElement (session=\"04dab385ccfcc22a433aca417a4b6fa6\", element=\"bffa1c24-854f-44d3-a160-a6993bf1b820\")>,\n",
       " <selenium.webdriver.remote.webelement.WebElement (session=\"04dab385ccfcc22a433aca417a4b6fa6\", element=\"67fb67ff-2647-4a3f-8120-1237c074b7b1\")>,\n",
       " <selenium.webdriver.remote.webelement.WebElement (session=\"04dab385ccfcc22a433aca417a4b6fa6\", element=\"3c8bcd4b-0fb3-4682-a21b-b3bc17520861\")>,\n",
       " <selenium.webdriver.remote.webelement.WebElement (session=\"04dab385ccfcc22a433aca417a4b6fa6\", element=\"af47c887-46a7-494b-b9c0-5ed5be4bb737\")>,\n",
       " <selenium.webdriver.remote.webelement.WebElement (session=\"04dab385ccfcc22a433aca417a4b6fa6\", element=\"5ed18319-8b57-4345-9438-f867e4cdb13a\")>,\n",
       " <selenium.webdriver.remote.webelement.WebElement (session=\"04dab385ccfcc22a433aca417a4b6fa6\", element=\"21e3e0d6-24cc-4161-8df4-f9590a22ade3\")>,\n",
       " <selenium.webdriver.remote.webelement.WebElement (session=\"04dab385ccfcc22a433aca417a4b6fa6\", element=\"dcaa4e89-a3eb-4d11-97bb-607f94f49530\")>,\n",
       " <selenium.webdriver.remote.webelement.WebElement (session=\"04dab385ccfcc22a433aca417a4b6fa6\", element=\"ad65fb22-258a-4b66-9f4d-84c0b56501e0\")>,\n",
       " <selenium.webdriver.remote.webelement.WebElement (session=\"04dab385ccfcc22a433aca417a4b6fa6\", element=\"0e4294b7-7cab-4bfe-a156-a538648de711\")>,\n",
       " <selenium.webdriver.remote.webelement.WebElement (session=\"04dab385ccfcc22a433aca417a4b6fa6\", element=\"c25f92b8-31b2-49dd-ace6-7ecbe11a4f16\")>,\n",
       " <selenium.webdriver.remote.webelement.WebElement (session=\"04dab385ccfcc22a433aca417a4b6fa6\", element=\"8933986b-6f54-40e7-97de-55bc4046518e\")>,\n",
       " <selenium.webdriver.remote.webelement.WebElement (session=\"04dab385ccfcc22a433aca417a4b6fa6\", element=\"2e98d8f5-6104-4591-9db0-ae1d16c4c904\")>,\n",
       " <selenium.webdriver.remote.webelement.WebElement (session=\"04dab385ccfcc22a433aca417a4b6fa6\", element=\"3b1df2ac-d3a7-4bad-9d12-8cb311031751\")>,\n",
       " <selenium.webdriver.remote.webelement.WebElement (session=\"04dab385ccfcc22a433aca417a4b6fa6\", element=\"82133858-a5c0-455c-8b3c-35eafa19d53a\")>]"
      ]
     },
     "execution_count": 26,
     "metadata": {},
     "output_type": "execute_result"
    }
   ],
   "source": [
    "# jobName \n",
    "# jobName  is a class=\"ais-Highlight-nonHighlighted\"\n",
    "jobName=driver.find_elements_by_css_selector('.sc-1kkiv1h-9.sc-7dlxn3-4.ivyJep.iXGQr')\n",
    "jobName"
   ]
  },
  {
   "cell_type": "code",
   "execution_count": 27,
   "id": "9c896096",
   "metadata": {},
   "outputs": [
    {
     "data": {
      "text/plain": [
       "['Data Scientist - H/F',\n",
       " 'Data Scientist',\n",
       " 'Data Scientist',\n",
       " 'Data Scientist',\n",
       " 'Data Scientist - Geo',\n",
       " 'Data Scientist - Alternance',\n",
       " 'Data Scientist Jeune Docteur (F/H)',\n",
       " 'Data-Scientist',\n",
       " 'Data Scientist',\n",
       " 'Data & Scientist - Montpellier',\n",
       " 'Data & Scientist - Sophia Antipolis',\n",
       " 'Data Scientist Unsupervised Learning',\n",
       " 'Data Scientist (computer vision) Toulouse',\n",
       " 'Data Scientist',\n",
       " 'Data Scientist Intern - Documents (End-of-studies or Césure Internship)',\n",
       " 'Data Scientist - End-of-studies (German speaking)',\n",
       " 'Data Scientist, Danish speaking - Northern Europe',\n",
       " 'Data Scientist - Spanish speaking',\n",
       " 'Data Scientist (End-of-studies Internship)',\n",
       " 'Data Scientist - France',\n",
       " 'Data Scientist Junior (H/F)',\n",
       " 'Data Scientist - F/H',\n",
       " 'Data Scientist R&D',\n",
       " 'Data Scientist Lead I M/F',\n",
       " 'Data Scientist',\n",
       " 'Data Scientist Intern',\n",
       " 'Data Scientist',\n",
       " 'Data Scientist confirmé(e) (H/F)',\n",
       " 'Data Scientist - Paris',\n",
       " 'Data-scientist']"
      ]
     },
     "execution_count": 27,
     "metadata": {},
     "output_type": "execute_result"
    }
   ],
   "source": [
    "# create a list with SRC (HTML path) of each element of the previous list\n",
    "# we use  list comprehension method here \n",
    "myListjobName = [el.text for el in jobName]\n",
    "myListjobName"
   ]
  },
  {
   "cell_type": "code",
   "execution_count": 28,
   "id": "7172f342",
   "metadata": {},
   "outputs": [
    {
     "data": {
      "text/html": [
       "<div>\n",
       "<style scoped>\n",
       "    .dataframe tbody tr th:only-of-type {\n",
       "        vertical-align: middle;\n",
       "    }\n",
       "\n",
       "    .dataframe tbody tr th {\n",
       "        vertical-align: top;\n",
       "    }\n",
       "\n",
       "    .dataframe thead th {\n",
       "        text-align: right;\n",
       "    }\n",
       "</style>\n",
       "<table border=\"1\" class=\"dataframe\">\n",
       "  <thead>\n",
       "    <tr style=\"text-align: right;\">\n",
       "      <th></th>\n",
       "      <th>Job name</th>\n",
       "    </tr>\n",
       "  </thead>\n",
       "  <tbody>\n",
       "    <tr>\n",
       "      <th>0</th>\n",
       "      <td>Data Scientist - H/F</td>\n",
       "    </tr>\n",
       "    <tr>\n",
       "      <th>1</th>\n",
       "      <td>Data Scientist</td>\n",
       "    </tr>\n",
       "    <tr>\n",
       "      <th>2</th>\n",
       "      <td>Data Scientist</td>\n",
       "    </tr>\n",
       "    <tr>\n",
       "      <th>3</th>\n",
       "      <td>Data Scientist</td>\n",
       "    </tr>\n",
       "    <tr>\n",
       "      <th>4</th>\n",
       "      <td>Data Scientist - Geo</td>\n",
       "    </tr>\n",
       "    <tr>\n",
       "      <th>5</th>\n",
       "      <td>Data Scientist - Alternance</td>\n",
       "    </tr>\n",
       "    <tr>\n",
       "      <th>6</th>\n",
       "      <td>Data Scientist Jeune Docteur (F/H)</td>\n",
       "    </tr>\n",
       "    <tr>\n",
       "      <th>7</th>\n",
       "      <td>Data-Scientist</td>\n",
       "    </tr>\n",
       "    <tr>\n",
       "      <th>8</th>\n",
       "      <td>Data Scientist</td>\n",
       "    </tr>\n",
       "    <tr>\n",
       "      <th>9</th>\n",
       "      <td>Data &amp; Scientist - Montpellier</td>\n",
       "    </tr>\n",
       "    <tr>\n",
       "      <th>10</th>\n",
       "      <td>Data &amp; Scientist - Sophia Antipolis</td>\n",
       "    </tr>\n",
       "    <tr>\n",
       "      <th>11</th>\n",
       "      <td>Data Scientist Unsupervised Learning</td>\n",
       "    </tr>\n",
       "    <tr>\n",
       "      <th>12</th>\n",
       "      <td>Data Scientist (computer vision) Toulouse</td>\n",
       "    </tr>\n",
       "    <tr>\n",
       "      <th>13</th>\n",
       "      <td>Data Scientist</td>\n",
       "    </tr>\n",
       "    <tr>\n",
       "      <th>14</th>\n",
       "      <td>Data Scientist Intern - Documents (End-of-stud...</td>\n",
       "    </tr>\n",
       "    <tr>\n",
       "      <th>15</th>\n",
       "      <td>Data Scientist - End-of-studies (German speaking)</td>\n",
       "    </tr>\n",
       "    <tr>\n",
       "      <th>16</th>\n",
       "      <td>Data Scientist, Danish speaking - Northern Europe</td>\n",
       "    </tr>\n",
       "    <tr>\n",
       "      <th>17</th>\n",
       "      <td>Data Scientist - Spanish speaking</td>\n",
       "    </tr>\n",
       "    <tr>\n",
       "      <th>18</th>\n",
       "      <td>Data Scientist (End-of-studies Internship)</td>\n",
       "    </tr>\n",
       "    <tr>\n",
       "      <th>19</th>\n",
       "      <td>Data Scientist - France</td>\n",
       "    </tr>\n",
       "    <tr>\n",
       "      <th>20</th>\n",
       "      <td>Data Scientist Junior (H/F)</td>\n",
       "    </tr>\n",
       "    <tr>\n",
       "      <th>21</th>\n",
       "      <td>Data Scientist - F/H</td>\n",
       "    </tr>\n",
       "    <tr>\n",
       "      <th>22</th>\n",
       "      <td>Data Scientist R&amp;D</td>\n",
       "    </tr>\n",
       "    <tr>\n",
       "      <th>23</th>\n",
       "      <td>Data Scientist Lead I M/F</td>\n",
       "    </tr>\n",
       "    <tr>\n",
       "      <th>24</th>\n",
       "      <td>Data Scientist</td>\n",
       "    </tr>\n",
       "    <tr>\n",
       "      <th>25</th>\n",
       "      <td>Data Scientist Intern</td>\n",
       "    </tr>\n",
       "    <tr>\n",
       "      <th>26</th>\n",
       "      <td>Data Scientist</td>\n",
       "    </tr>\n",
       "    <tr>\n",
       "      <th>27</th>\n",
       "      <td>Data Scientist confirmé(e) (H/F)</td>\n",
       "    </tr>\n",
       "    <tr>\n",
       "      <th>28</th>\n",
       "      <td>Data Scientist - Paris</td>\n",
       "    </tr>\n",
       "    <tr>\n",
       "      <th>29</th>\n",
       "      <td>Data-scientist</td>\n",
       "    </tr>\n",
       "  </tbody>\n",
       "</table>\n",
       "</div>"
      ],
      "text/plain": [
       "                                             Job name\n",
       "0                                Data Scientist - H/F\n",
       "1                                      Data Scientist\n",
       "2                                      Data Scientist\n",
       "3                                      Data Scientist\n",
       "4                                Data Scientist - Geo\n",
       "5                         Data Scientist - Alternance\n",
       "6                  Data Scientist Jeune Docteur (F/H)\n",
       "7                                      Data-Scientist\n",
       "8                                      Data Scientist\n",
       "9                      Data & Scientist - Montpellier\n",
       "10                Data & Scientist - Sophia Antipolis\n",
       "11               Data Scientist Unsupervised Learning\n",
       "12          Data Scientist (computer vision) Toulouse\n",
       "13                                     Data Scientist\n",
       "14  Data Scientist Intern - Documents (End-of-stud...\n",
       "15  Data Scientist - End-of-studies (German speaking)\n",
       "16  Data Scientist, Danish speaking - Northern Europe\n",
       "17                  Data Scientist - Spanish speaking\n",
       "18         Data Scientist (End-of-studies Internship)\n",
       "19                            Data Scientist - France\n",
       "20                        Data Scientist Junior (H/F)\n",
       "21                               Data Scientist - F/H\n",
       "22                                 Data Scientist R&D\n",
       "23                          Data Scientist Lead I M/F\n",
       "24                                     Data Scientist\n",
       "25                              Data Scientist Intern\n",
       "26                                     Data Scientist\n",
       "27                   Data Scientist confirmé(e) (H/F)\n",
       "28                             Data Scientist - Paris\n",
       "29                                     Data-scientist"
      ]
     },
     "execution_count": 28,
     "metadata": {},
     "output_type": "execute_result"
    }
   ],
   "source": [
    "ListjobNameDF = pd.DataFrame({'Job name': myListjobName})\n",
    "ListjobNameDF"
   ]
  },
  {
   "cell_type": "code",
   "execution_count": 29,
   "id": "d816f57a",
   "metadata": {},
   "outputs": [],
   "source": [
    "ListjobNameDF.to_csv (r'C:\\Users\\JORDAN\\Documents\\DSTI\\web-scrapping-job\\ListjobNameDF.csv', index = False, header=True)"
   ]
  },
  {
   "cell_type": "code",
   "execution_count": 30,
   "id": "e2bcc5a6",
   "metadata": {},
   "outputs": [
    {
     "data": {
      "text/plain": [
       "['CDI',\n",
       " 'CDI',\n",
       " 'Stage',\n",
       " 'Stage',\n",
       " 'CDI',\n",
       " 'Alternance',\n",
       " 'CDI',\n",
       " 'CDI',\n",
       " 'Stage',\n",
       " 'CDI',\n",
       " 'CDI',\n",
       " 'CDI',\n",
       " 'CDI',\n",
       " 'CDI',\n",
       " 'Stage',\n",
       " 'CDI',\n",
       " 'CDI',\n",
       " 'CDI',\n",
       " 'Stage',\n",
       " 'CDI',\n",
       " 'CDI',\n",
       " 'CDI',\n",
       " 'CDI',\n",
       " 'CDI',\n",
       " 'CDI',\n",
       " 'Stage',\n",
       " 'CDI',\n",
       " 'CDI',\n",
       " 'CDI',\n",
       " 'CDI']"
      ]
     },
     "execution_count": 30,
     "metadata": {},
     "output_type": "execute_result"
    }
   ],
   "source": [
    "# ContractType \n",
    "# ContractType  is a class=\"ais-Highlight-nonHighlighted\"\n",
    "# ContractType=driver.find_elements_by_css_selector('.sc-1qc42fc-2.bzTNsD')\n",
    "# ContractType\n",
    "\n",
    "job_type = driver.find_elements_by_css_selector('.sc-1qc42fc-4.dLcIHx')\n",
    "list_job_type = [i.find_elements_by_tag_name(\"span\")[1].find_element_by_tag_name(\"span\").text for i in job_type]\n",
    "list_job_type\n"
   ]
  },
  {
   "cell_type": "code",
   "execution_count": 31,
   "id": "7bf3bb91",
   "metadata": {},
   "outputs": [
    {
     "data": {
      "text/html": [
       "<div>\n",
       "<style scoped>\n",
       "    .dataframe tbody tr th:only-of-type {\n",
       "        vertical-align: middle;\n",
       "    }\n",
       "\n",
       "    .dataframe tbody tr th {\n",
       "        vertical-align: top;\n",
       "    }\n",
       "\n",
       "    .dataframe thead th {\n",
       "        text-align: right;\n",
       "    }\n",
       "</style>\n",
       "<table border=\"1\" class=\"dataframe\">\n",
       "  <thead>\n",
       "    <tr style=\"text-align: right;\">\n",
       "      <th></th>\n",
       "      <th>contract type</th>\n",
       "    </tr>\n",
       "  </thead>\n",
       "  <tbody>\n",
       "    <tr>\n",
       "      <th>0</th>\n",
       "      <td>CDI</td>\n",
       "    </tr>\n",
       "    <tr>\n",
       "      <th>1</th>\n",
       "      <td>CDI</td>\n",
       "    </tr>\n",
       "    <tr>\n",
       "      <th>2</th>\n",
       "      <td>Stage</td>\n",
       "    </tr>\n",
       "    <tr>\n",
       "      <th>3</th>\n",
       "      <td>Stage</td>\n",
       "    </tr>\n",
       "    <tr>\n",
       "      <th>4</th>\n",
       "      <td>CDI</td>\n",
       "    </tr>\n",
       "    <tr>\n",
       "      <th>5</th>\n",
       "      <td>Alternance</td>\n",
       "    </tr>\n",
       "    <tr>\n",
       "      <th>6</th>\n",
       "      <td>CDI</td>\n",
       "    </tr>\n",
       "    <tr>\n",
       "      <th>7</th>\n",
       "      <td>CDI</td>\n",
       "    </tr>\n",
       "    <tr>\n",
       "      <th>8</th>\n",
       "      <td>Stage</td>\n",
       "    </tr>\n",
       "    <tr>\n",
       "      <th>9</th>\n",
       "      <td>CDI</td>\n",
       "    </tr>\n",
       "    <tr>\n",
       "      <th>10</th>\n",
       "      <td>CDI</td>\n",
       "    </tr>\n",
       "    <tr>\n",
       "      <th>11</th>\n",
       "      <td>CDI</td>\n",
       "    </tr>\n",
       "    <tr>\n",
       "      <th>12</th>\n",
       "      <td>CDI</td>\n",
       "    </tr>\n",
       "    <tr>\n",
       "      <th>13</th>\n",
       "      <td>CDI</td>\n",
       "    </tr>\n",
       "    <tr>\n",
       "      <th>14</th>\n",
       "      <td>Stage</td>\n",
       "    </tr>\n",
       "    <tr>\n",
       "      <th>15</th>\n",
       "      <td>CDI</td>\n",
       "    </tr>\n",
       "    <tr>\n",
       "      <th>16</th>\n",
       "      <td>CDI</td>\n",
       "    </tr>\n",
       "    <tr>\n",
       "      <th>17</th>\n",
       "      <td>CDI</td>\n",
       "    </tr>\n",
       "    <tr>\n",
       "      <th>18</th>\n",
       "      <td>Stage</td>\n",
       "    </tr>\n",
       "    <tr>\n",
       "      <th>19</th>\n",
       "      <td>CDI</td>\n",
       "    </tr>\n",
       "    <tr>\n",
       "      <th>20</th>\n",
       "      <td>CDI</td>\n",
       "    </tr>\n",
       "    <tr>\n",
       "      <th>21</th>\n",
       "      <td>CDI</td>\n",
       "    </tr>\n",
       "    <tr>\n",
       "      <th>22</th>\n",
       "      <td>CDI</td>\n",
       "    </tr>\n",
       "    <tr>\n",
       "      <th>23</th>\n",
       "      <td>CDI</td>\n",
       "    </tr>\n",
       "    <tr>\n",
       "      <th>24</th>\n",
       "      <td>CDI</td>\n",
       "    </tr>\n",
       "    <tr>\n",
       "      <th>25</th>\n",
       "      <td>Stage</td>\n",
       "    </tr>\n",
       "    <tr>\n",
       "      <th>26</th>\n",
       "      <td>CDI</td>\n",
       "    </tr>\n",
       "    <tr>\n",
       "      <th>27</th>\n",
       "      <td>CDI</td>\n",
       "    </tr>\n",
       "    <tr>\n",
       "      <th>28</th>\n",
       "      <td>CDI</td>\n",
       "    </tr>\n",
       "    <tr>\n",
       "      <th>29</th>\n",
       "      <td>CDI</td>\n",
       "    </tr>\n",
       "  </tbody>\n",
       "</table>\n",
       "</div>"
      ],
      "text/plain": [
       "   contract type\n",
       "0            CDI\n",
       "1            CDI\n",
       "2          Stage\n",
       "3          Stage\n",
       "4            CDI\n",
       "5     Alternance\n",
       "6            CDI\n",
       "7            CDI\n",
       "8          Stage\n",
       "9            CDI\n",
       "10           CDI\n",
       "11           CDI\n",
       "12           CDI\n",
       "13           CDI\n",
       "14         Stage\n",
       "15           CDI\n",
       "16           CDI\n",
       "17           CDI\n",
       "18         Stage\n",
       "19           CDI\n",
       "20           CDI\n",
       "21           CDI\n",
       "22           CDI\n",
       "23           CDI\n",
       "24           CDI\n",
       "25         Stage\n",
       "26           CDI\n",
       "27           CDI\n",
       "28           CDI\n",
       "29           CDI"
      ]
     },
     "execution_count": 31,
     "metadata": {},
     "output_type": "execute_result"
    }
   ],
   "source": [
    "list_job_typeDF = pd.DataFrame({'contract type': list_job_type})\n",
    "list_job_typeDF"
   ]
  },
  {
   "cell_type": "code",
   "execution_count": 32,
   "id": "86f17aba",
   "metadata": {},
   "outputs": [],
   "source": [
    "list_job_typeDF.to_csv (r'C:\\Users\\JORDAN\\Documents\\DSTI\\web-scrapping-job\\list_job_typeDF.csv', index = False, header=True)"
   ]
  },
  {
   "cell_type": "code",
   "execution_count": 33,
   "id": "019b11c1",
   "metadata": {},
   "outputs": [],
   "source": [
    "# close the browser\n",
    "driver.quit()"
   ]
  }
 ],
 "metadata": {
  "kernelspec": {
   "display_name": "Python 3",
   "language": "python",
   "name": "python3"
  },
  "language_info": {
   "codemirror_mode": {
    "name": "ipython",
    "version": 3
   },
   "file_extension": ".py",
   "mimetype": "text/x-python",
   "name": "python",
   "nbconvert_exporter": "python",
   "pygments_lexer": "ipython3",
   "version": "3.6.13"
  }
 },
 "nbformat": 4,
 "nbformat_minor": 5
}
